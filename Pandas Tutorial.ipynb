{
 "cells": [
  {
   "cell_type": "code",
   "execution_count": 1,
   "id": "6d1fc324",
   "metadata": {},
   "outputs": [],
   "source": [
    "import pandas as pd\n",
    "import numpy as np"
   ]
  },
  {
   "cell_type": "code",
   "execution_count": 2,
   "id": "7f34acb2",
   "metadata": {},
   "outputs": [],
   "source": [
    "df=pd.DataFrame(np.arange(0,20).reshape(5,4),index=['row1','row2','row3','row4','row5'],columns=['col1','col2','col3','col4'])"
   ]
  },
  {
   "cell_type": "code",
   "execution_count": 3,
   "id": "dfd402a1",
   "metadata": {},
   "outputs": [
    {
     "data": {
      "text/html": [
       "<div>\n",
       "<style scoped>\n",
       "    .dataframe tbody tr th:only-of-type {\n",
       "        vertical-align: middle;\n",
       "    }\n",
       "\n",
       "    .dataframe tbody tr th {\n",
       "        vertical-align: top;\n",
       "    }\n",
       "\n",
       "    .dataframe thead th {\n",
       "        text-align: right;\n",
       "    }\n",
       "</style>\n",
       "<table border=\"1\" class=\"dataframe\">\n",
       "  <thead>\n",
       "    <tr style=\"text-align: right;\">\n",
       "      <th></th>\n",
       "      <th>col1</th>\n",
       "      <th>col2</th>\n",
       "      <th>col3</th>\n",
       "      <th>col4</th>\n",
       "    </tr>\n",
       "  </thead>\n",
       "  <tbody>\n",
       "    <tr>\n",
       "      <th>row1</th>\n",
       "      <td>0</td>\n",
       "      <td>1</td>\n",
       "      <td>2</td>\n",
       "      <td>3</td>\n",
       "    </tr>\n",
       "    <tr>\n",
       "      <th>row2</th>\n",
       "      <td>4</td>\n",
       "      <td>5</td>\n",
       "      <td>6</td>\n",
       "      <td>7</td>\n",
       "    </tr>\n",
       "    <tr>\n",
       "      <th>row3</th>\n",
       "      <td>8</td>\n",
       "      <td>9</td>\n",
       "      <td>10</td>\n",
       "      <td>11</td>\n",
       "    </tr>\n",
       "    <tr>\n",
       "      <th>row4</th>\n",
       "      <td>12</td>\n",
       "      <td>13</td>\n",
       "      <td>14</td>\n",
       "      <td>15</td>\n",
       "    </tr>\n",
       "    <tr>\n",
       "      <th>row5</th>\n",
       "      <td>16</td>\n",
       "      <td>17</td>\n",
       "      <td>18</td>\n",
       "      <td>19</td>\n",
       "    </tr>\n",
       "  </tbody>\n",
       "</table>\n",
       "</div>"
      ],
      "text/plain": [
       "      col1  col2  col3  col4\n",
       "row1     0     1     2     3\n",
       "row2     4     5     6     7\n",
       "row3     8     9    10    11\n",
       "row4    12    13    14    15\n",
       "row5    16    17    18    19"
      ]
     },
     "execution_count": 3,
     "metadata": {},
     "output_type": "execute_result"
    }
   ],
   "source": [
    "df.head()"
   ]
  },
  {
   "cell_type": "code",
   "execution_count": 4,
   "id": "93a1aed0",
   "metadata": {},
   "outputs": [
    {
     "data": {
      "text/plain": [
       "col1    0\n",
       "col2    1\n",
       "col3    2\n",
       "col4    3\n",
       "Name: row1, dtype: int32"
      ]
     },
     "execution_count": 4,
     "metadata": {},
     "output_type": "execute_result"
    }
   ],
   "source": [
    "df.loc['row1']"
   ]
  },
  {
   "cell_type": "code",
   "execution_count": 5,
   "id": "bced7da3",
   "metadata": {},
   "outputs": [],
   "source": [
    "df.to_csv('test.csv')"
   ]
  },
  {
   "cell_type": "code",
   "execution_count": 6,
   "id": "05cb1944",
   "metadata": {},
   "outputs": [
    {
     "data": {
      "text/html": [
       "<div>\n",
       "<style scoped>\n",
       "    .dataframe tbody tr th:only-of-type {\n",
       "        vertical-align: middle;\n",
       "    }\n",
       "\n",
       "    .dataframe tbody tr th {\n",
       "        vertical-align: top;\n",
       "    }\n",
       "\n",
       "    .dataframe thead th {\n",
       "        text-align: right;\n",
       "    }\n",
       "</style>\n",
       "<table border=\"1\" class=\"dataframe\">\n",
       "  <thead>\n",
       "    <tr style=\"text-align: right;\">\n",
       "      <th></th>\n",
       "      <th>col2</th>\n",
       "      <th>col3</th>\n",
       "    </tr>\n",
       "  </thead>\n",
       "  <tbody>\n",
       "    <tr>\n",
       "      <th>row2</th>\n",
       "      <td>5</td>\n",
       "      <td>6</td>\n",
       "    </tr>\n",
       "    <tr>\n",
       "      <th>row3</th>\n",
       "      <td>9</td>\n",
       "      <td>10</td>\n",
       "    </tr>\n",
       "    <tr>\n",
       "      <th>row4</th>\n",
       "      <td>13</td>\n",
       "      <td>14</td>\n",
       "    </tr>\n",
       "  </tbody>\n",
       "</table>\n",
       "</div>"
      ],
      "text/plain": [
       "      col2  col3\n",
       "row2     5     6\n",
       "row3     9    10\n",
       "row4    13    14"
      ]
     },
     "execution_count": 6,
     "metadata": {},
     "output_type": "execute_result"
    }
   ],
   "source": [
    "df.iloc[1:4,1:3]"
   ]
  },
  {
   "cell_type": "code",
   "execution_count": 7,
   "id": "7bb5730d",
   "metadata": {},
   "outputs": [
    {
     "data": {
      "text/plain": [
       "pandas.core.series.Series"
      ]
     },
     "execution_count": 7,
     "metadata": {},
     "output_type": "execute_result"
    }
   ],
   "source": [
    "type(df.loc['row2'])"
   ]
  },
  {
   "cell_type": "code",
   "execution_count": 8,
   "id": "cb0a22f2",
   "metadata": {},
   "outputs": [
    {
     "data": {
      "text/plain": [
       "pandas.core.frame.DataFrame"
      ]
     },
     "execution_count": 8,
     "metadata": {},
     "output_type": "execute_result"
    }
   ],
   "source": [
    "type(df.iloc[1:3,1:3])"
   ]
  },
  {
   "cell_type": "code",
   "execution_count": 9,
   "id": "fe828d9a",
   "metadata": {},
   "outputs": [
    {
     "data": {
      "text/plain": [
       "array([[ 5,  6],\n",
       "       [ 9, 10],\n",
       "       [13, 14]])"
      ]
     },
     "execution_count": 9,
     "metadata": {},
     "output_type": "execute_result"
    }
   ],
   "source": [
    "df.iloc[1:4,1:3].values"
   ]
  },
  {
   "cell_type": "code",
   "execution_count": 10,
   "id": "6f67a3b7",
   "metadata": {},
   "outputs": [
    {
     "data": {
      "text/plain": [
       "0     1\n",
       "4     1\n",
       "8     1\n",
       "12    1\n",
       "16    1\n",
       "Name: col1, dtype: int64"
      ]
     },
     "execution_count": 10,
     "metadata": {},
     "output_type": "execute_result"
    }
   ],
   "source": [
    "df['col1'].value_counts()"
   ]
  },
  {
   "cell_type": "code",
   "execution_count": 11,
   "id": "b2955ec3",
   "metadata": {},
   "outputs": [
    {
     "data": {
      "text/plain": [
       "col1    0\n",
       "col2    0\n",
       "col3    0\n",
       "col4    0\n",
       "dtype: int64"
      ]
     },
     "execution_count": 11,
     "metadata": {},
     "output_type": "execute_result"
    }
   ],
   "source": [
    " df.isnull().sum()"
   ]
  },
  {
   "cell_type": "code",
   "execution_count": 12,
   "id": "7f5915b4",
   "metadata": {},
   "outputs": [],
   "source": [
    " df=pd.read_csv('test.csv')"
   ]
  },
  {
   "cell_type": "code",
   "execution_count": 13,
   "id": "0d62bbd9",
   "metadata": {},
   "outputs": [
    {
     "data": {
      "text/html": [
       "<div>\n",
       "<style scoped>\n",
       "    .dataframe tbody tr th:only-of-type {\n",
       "        vertical-align: middle;\n",
       "    }\n",
       "\n",
       "    .dataframe tbody tr th {\n",
       "        vertical-align: top;\n",
       "    }\n",
       "\n",
       "    .dataframe thead th {\n",
       "        text-align: right;\n",
       "    }\n",
       "</style>\n",
       "<table border=\"1\" class=\"dataframe\">\n",
       "  <thead>\n",
       "    <tr style=\"text-align: right;\">\n",
       "      <th></th>\n",
       "      <th>Unnamed: 0</th>\n",
       "      <th>col1</th>\n",
       "      <th>col2</th>\n",
       "      <th>col3</th>\n",
       "      <th>col4</th>\n",
       "    </tr>\n",
       "  </thead>\n",
       "  <tbody>\n",
       "    <tr>\n",
       "      <th>0</th>\n",
       "      <td>row1</td>\n",
       "      <td>0</td>\n",
       "      <td>1</td>\n",
       "      <td>2</td>\n",
       "      <td>3</td>\n",
       "    </tr>\n",
       "    <tr>\n",
       "      <th>1</th>\n",
       "      <td>row2</td>\n",
       "      <td>4</td>\n",
       "      <td>5</td>\n",
       "      <td>6</td>\n",
       "      <td>7</td>\n",
       "    </tr>\n",
       "    <tr>\n",
       "      <th>2</th>\n",
       "      <td>row3</td>\n",
       "      <td>8</td>\n",
       "      <td>9</td>\n",
       "      <td>10</td>\n",
       "      <td>11</td>\n",
       "    </tr>\n",
       "    <tr>\n",
       "      <th>3</th>\n",
       "      <td>row4</td>\n",
       "      <td>12</td>\n",
       "      <td>13</td>\n",
       "      <td>14</td>\n",
       "      <td>15</td>\n",
       "    </tr>\n",
       "    <tr>\n",
       "      <th>4</th>\n",
       "      <td>row5</td>\n",
       "      <td>16</td>\n",
       "      <td>17</td>\n",
       "      <td>18</td>\n",
       "      <td>19</td>\n",
       "    </tr>\n",
       "  </tbody>\n",
       "</table>\n",
       "</div>"
      ],
      "text/plain": [
       "  Unnamed: 0  col1  col2  col3  col4\n",
       "0       row1     0     1     2     3\n",
       "1       row2     4     5     6     7\n",
       "2       row3     8     9    10    11\n",
       "3       row4    12    13    14    15\n",
       "4       row5    16    17    18    19"
      ]
     },
     "execution_count": 13,
     "metadata": {},
     "output_type": "execute_result"
    }
   ],
   "source": [
    " df.head()"
   ]
  },
  {
   "cell_type": "code",
   "execution_count": 14,
   "id": "a9d1efa2",
   "metadata": {},
   "outputs": [
    {
     "data": {
      "text/plain": [
       "array([ 0,  4,  8, 12, 16], dtype=int64)"
      ]
     },
     "execution_count": 14,
     "metadata": {},
     "output_type": "execute_result"
    }
   ],
   "source": [
    "df['col1'].unique()"
   ]
  },
  {
   "cell_type": "code",
   "execution_count": 15,
   "id": "894e397d",
   "metadata": {},
   "outputs": [
    {
     "name": "stdout",
     "output_type": "stream",
     "text": [
      "<class 'pandas.core.frame.DataFrame'>\n",
      "RangeIndex: 5 entries, 0 to 4\n",
      "Data columns (total 5 columns):\n",
      " #   Column      Non-Null Count  Dtype \n",
      "---  ------      --------------  ----- \n",
      " 0   Unnamed: 0  5 non-null      object\n",
      " 1   col1        5 non-null      int64 \n",
      " 2   col2        5 non-null      int64 \n",
      " 3   col3        5 non-null      int64 \n",
      " 4   col4        5 non-null      int64 \n",
      "dtypes: int64(4), object(1)\n",
      "memory usage: 328.0+ bytes\n"
     ]
    }
   ],
   "source": [
    "df.info()"
   ]
  },
  {
   "cell_type": "code",
   "execution_count": 16,
   "id": "93750b74",
   "metadata": {},
   "outputs": [],
   "source": [
    "mkdir hello"
   ]
  },
  {
   "cell_type": "code",
   "execution_count": 17,
   "id": "e05a016f",
   "metadata": {},
   "outputs": [],
   "source": [
    "rmdir hello"
   ]
  },
  {
   "cell_type": "code",
   "execution_count": 18,
   "id": "310e22ca",
   "metadata": {},
   "outputs": [
    {
     "data": {
      "text/html": [
       "<div>\n",
       "<style scoped>\n",
       "    .dataframe tbody tr th:only-of-type {\n",
       "        vertical-align: middle;\n",
       "    }\n",
       "\n",
       "    .dataframe tbody tr th {\n",
       "        vertical-align: top;\n",
       "    }\n",
       "\n",
       "    .dataframe thead th {\n",
       "        text-align: right;\n",
       "    }\n",
       "</style>\n",
       "<table border=\"1\" class=\"dataframe\">\n",
       "  <thead>\n",
       "    <tr style=\"text-align: right;\">\n",
       "      <th></th>\n",
       "      <th>col1</th>\n",
       "      <th>col2</th>\n",
       "      <th>col3</th>\n",
       "      <th>col4</th>\n",
       "    </tr>\n",
       "  </thead>\n",
       "  <tbody>\n",
       "    <tr>\n",
       "      <th>count</th>\n",
       "      <td>5.000000</td>\n",
       "      <td>5.000000</td>\n",
       "      <td>5.000000</td>\n",
       "      <td>5.000000</td>\n",
       "    </tr>\n",
       "    <tr>\n",
       "      <th>mean</th>\n",
       "      <td>8.000000</td>\n",
       "      <td>9.000000</td>\n",
       "      <td>10.000000</td>\n",
       "      <td>11.000000</td>\n",
       "    </tr>\n",
       "    <tr>\n",
       "      <th>std</th>\n",
       "      <td>6.324555</td>\n",
       "      <td>6.324555</td>\n",
       "      <td>6.324555</td>\n",
       "      <td>6.324555</td>\n",
       "    </tr>\n",
       "    <tr>\n",
       "      <th>min</th>\n",
       "      <td>0.000000</td>\n",
       "      <td>1.000000</td>\n",
       "      <td>2.000000</td>\n",
       "      <td>3.000000</td>\n",
       "    </tr>\n",
       "    <tr>\n",
       "      <th>25%</th>\n",
       "      <td>4.000000</td>\n",
       "      <td>5.000000</td>\n",
       "      <td>6.000000</td>\n",
       "      <td>7.000000</td>\n",
       "    </tr>\n",
       "    <tr>\n",
       "      <th>50%</th>\n",
       "      <td>8.000000</td>\n",
       "      <td>9.000000</td>\n",
       "      <td>10.000000</td>\n",
       "      <td>11.000000</td>\n",
       "    </tr>\n",
       "    <tr>\n",
       "      <th>75%</th>\n",
       "      <td>12.000000</td>\n",
       "      <td>13.000000</td>\n",
       "      <td>14.000000</td>\n",
       "      <td>15.000000</td>\n",
       "    </tr>\n",
       "    <tr>\n",
       "      <th>max</th>\n",
       "      <td>16.000000</td>\n",
       "      <td>17.000000</td>\n",
       "      <td>18.000000</td>\n",
       "      <td>19.000000</td>\n",
       "    </tr>\n",
       "  </tbody>\n",
       "</table>\n",
       "</div>"
      ],
      "text/plain": [
       "            col1       col2       col3       col4\n",
       "count   5.000000   5.000000   5.000000   5.000000\n",
       "mean    8.000000   9.000000  10.000000  11.000000\n",
       "std     6.324555   6.324555   6.324555   6.324555\n",
       "min     0.000000   1.000000   2.000000   3.000000\n",
       "25%     4.000000   5.000000   6.000000   7.000000\n",
       "50%     8.000000   9.000000  10.000000  11.000000\n",
       "75%    12.000000  13.000000  14.000000  15.000000\n",
       "max    16.000000  17.000000  18.000000  19.000000"
      ]
     },
     "execution_count": 18,
     "metadata": {},
     "output_type": "execute_result"
    }
   ],
   "source": [
    " df.describe()"
   ]
  },
  {
   "cell_type": "code",
   "execution_count": 19,
   "id": "bb9079cf",
   "metadata": {},
   "outputs": [],
   "source": [
    "test_df=pd.read_csv('ssv.csv',sep=';')  "
   ]
  },
  {
   "cell_type": "code",
   "execution_count": 20,
   "id": "fafa1ec9",
   "metadata": {},
   "outputs": [
    {
     "data": {
      "text/html": [
       "<div>\n",
       "<style scoped>\n",
       "    .dataframe tbody tr th:only-of-type {\n",
       "        vertical-align: middle;\n",
       "    }\n",
       "\n",
       "    .dataframe tbody tr th {\n",
       "        vertical-align: top;\n",
       "    }\n",
       "\n",
       "    .dataframe thead th {\n",
       "        text-align: right;\n",
       "    }\n",
       "</style>\n",
       "<table border=\"1\" class=\"dataframe\">\n",
       "  <thead>\n",
       "    <tr style=\"text-align: right;\">\n",
       "      <th></th>\n",
       "      <th>Unnamed: 0</th>\n",
       "      <th>col1</th>\n",
       "      <th>col2</th>\n",
       "    </tr>\n",
       "  </thead>\n",
       "  <tbody>\n",
       "    <tr>\n",
       "      <th>0</th>\n",
       "      <td>row1</td>\n",
       "      <td>1</td>\n",
       "      <td>2</td>\n",
       "    </tr>\n",
       "    <tr>\n",
       "      <th>1</th>\n",
       "      <td>row2</td>\n",
       "      <td>3</td>\n",
       "      <td>4</td>\n",
       "    </tr>\n",
       "  </tbody>\n",
       "</table>\n",
       "</div>"
      ],
      "text/plain": [
       "  Unnamed: 0  col1  col2\n",
       "0       row1     1     2\n",
       "1       row2     3     4"
      ]
     },
     "execution_count": 20,
     "metadata": {},
     "output_type": "execute_result"
    }
   ],
   "source": [
    " test_df"
   ]
  },
  {
   "cell_type": "code",
   "execution_count": 21,
   "id": "990ad2a2",
   "metadata": {},
   "outputs": [
    {
     "data": {
      "text/html": [
       "<div>\n",
       "<style scoped>\n",
       "    .dataframe tbody tr th:only-of-type {\n",
       "        vertical-align: middle;\n",
       "    }\n",
       "\n",
       "    .dataframe tbody tr th {\n",
       "        vertical-align: top;\n",
       "    }\n",
       "\n",
       "    .dataframe thead th {\n",
       "        text-align: right;\n",
       "    }\n",
       "</style>\n",
       "<table border=\"1\" class=\"dataframe\">\n",
       "  <thead>\n",
       "    <tr style=\"text-align: right;\">\n",
       "      <th></th>\n",
       "      <th>Unnamed: 0</th>\n",
       "      <th>col1</th>\n",
       "      <th>col2</th>\n",
       "      <th>col3</th>\n",
       "      <th>col4</th>\n",
       "    </tr>\n",
       "  </thead>\n",
       "  <tbody>\n",
       "    <tr>\n",
       "      <th>2</th>\n",
       "      <td>row3</td>\n",
       "      <td>8</td>\n",
       "      <td>9</td>\n",
       "      <td>10</td>\n",
       "      <td>11</td>\n",
       "    </tr>\n",
       "    <tr>\n",
       "      <th>3</th>\n",
       "      <td>row4</td>\n",
       "      <td>12</td>\n",
       "      <td>13</td>\n",
       "      <td>14</td>\n",
       "      <td>15</td>\n",
       "    </tr>\n",
       "    <tr>\n",
       "      <th>4</th>\n",
       "      <td>row5</td>\n",
       "      <td>16</td>\n",
       "      <td>17</td>\n",
       "      <td>18</td>\n",
       "      <td>19</td>\n",
       "    </tr>\n",
       "  </tbody>\n",
       "</table>\n",
       "</div>"
      ],
      "text/plain": [
       "  Unnamed: 0  col1  col2  col3  col4\n",
       "2       row3     8     9    10    11\n",
       "3       row4    12    13    14    15\n",
       "4       row5    16    17    18    19"
      ]
     },
     "execution_count": 21,
     "metadata": {},
     "output_type": "execute_result"
    }
   ],
   "source": [
    "df[df['col1']>4]  "
   ]
  },
  {
   "cell_type": "code",
   "execution_count": 22,
   "id": "9cd1a003",
   "metadata": {},
   "outputs": [
    {
     "data": {
      "text/html": [
       "<div>\n",
       "<style scoped>\n",
       "    .dataframe tbody tr th:only-of-type {\n",
       "        vertical-align: middle;\n",
       "    }\n",
       "\n",
       "    .dataframe tbody tr th {\n",
       "        vertical-align: top;\n",
       "    }\n",
       "\n",
       "    .dataframe thead th {\n",
       "        text-align: right;\n",
       "    }\n",
       "</style>\n",
       "<table border=\"1\" class=\"dataframe\">\n",
       "  <thead>\n",
       "    <tr style=\"text-align: right;\">\n",
       "      <th></th>\n",
       "      <th>col1</th>\n",
       "      <th>col2</th>\n",
       "      <th>col3</th>\n",
       "      <th>col4</th>\n",
       "    </tr>\n",
       "  </thead>\n",
       "  <tbody>\n",
       "    <tr>\n",
       "      <th>col1</th>\n",
       "      <td>1.0</td>\n",
       "      <td>1.0</td>\n",
       "      <td>1.0</td>\n",
       "      <td>1.0</td>\n",
       "    </tr>\n",
       "    <tr>\n",
       "      <th>col2</th>\n",
       "      <td>1.0</td>\n",
       "      <td>1.0</td>\n",
       "      <td>1.0</td>\n",
       "      <td>1.0</td>\n",
       "    </tr>\n",
       "    <tr>\n",
       "      <th>col3</th>\n",
       "      <td>1.0</td>\n",
       "      <td>1.0</td>\n",
       "      <td>1.0</td>\n",
       "      <td>1.0</td>\n",
       "    </tr>\n",
       "    <tr>\n",
       "      <th>col4</th>\n",
       "      <td>1.0</td>\n",
       "      <td>1.0</td>\n",
       "      <td>1.0</td>\n",
       "      <td>1.0</td>\n",
       "    </tr>\n",
       "  </tbody>\n",
       "</table>\n",
       "</div>"
      ],
      "text/plain": [
       "      col1  col2  col3  col4\n",
       "col1   1.0   1.0   1.0   1.0\n",
       "col2   1.0   1.0   1.0   1.0\n",
       "col3   1.0   1.0   1.0   1.0\n",
       "col4   1.0   1.0   1.0   1.0"
      ]
     },
     "execution_count": 22,
     "metadata": {},
     "output_type": "execute_result"
    }
   ],
   "source": [
    "df.corr()"
   ]
  },
  {
   "cell_type": "code",
   "execution_count": 23,
   "id": "401c567b",
   "metadata": {},
   "outputs": [],
   "source": [
    "from io import StringIO, BytesIO"
   ]
  },
  {
   "cell_type": "code",
   "execution_count": 24,
   "id": "f9fea973",
   "metadata": {},
   "outputs": [],
   "source": [
    "data = ('col1,col2,col3\\n'\n",
    "       'x,y,1\\n'\n",
    "       'a,b,2\\n'\n",
    "       'c,d,3')"
   ]
  },
  {
   "cell_type": "code",
   "execution_count": 25,
   "id": "e81fa284",
   "metadata": {},
   "outputs": [
    {
     "data": {
      "text/plain": [
       "str"
      ]
     },
     "execution_count": 25,
     "metadata": {},
     "output_type": "execute_result"
    }
   ],
   "source": [
    "type(data)"
   ]
  },
  {
   "cell_type": "code",
   "execution_count": 26,
   "id": "07f91191",
   "metadata": {},
   "outputs": [
    {
     "data": {
      "text/html": [
       "<div>\n",
       "<style scoped>\n",
       "    .dataframe tbody tr th:only-of-type {\n",
       "        vertical-align: middle;\n",
       "    }\n",
       "\n",
       "    .dataframe tbody tr th {\n",
       "        vertical-align: top;\n",
       "    }\n",
       "\n",
       "    .dataframe thead th {\n",
       "        text-align: right;\n",
       "    }\n",
       "</style>\n",
       "<table border=\"1\" class=\"dataframe\">\n",
       "  <thead>\n",
       "    <tr style=\"text-align: right;\">\n",
       "      <th></th>\n",
       "      <th>col1</th>\n",
       "      <th>col2</th>\n",
       "      <th>col3</th>\n",
       "    </tr>\n",
       "  </thead>\n",
       "  <tbody>\n",
       "    <tr>\n",
       "      <th>0</th>\n",
       "      <td>x</td>\n",
       "      <td>y</td>\n",
       "      <td>1</td>\n",
       "    </tr>\n",
       "    <tr>\n",
       "      <th>1</th>\n",
       "      <td>a</td>\n",
       "      <td>b</td>\n",
       "      <td>2</td>\n",
       "    </tr>\n",
       "    <tr>\n",
       "      <th>2</th>\n",
       "      <td>c</td>\n",
       "      <td>d</td>\n",
       "      <td>3</td>\n",
       "    </tr>\n",
       "  </tbody>\n",
       "</table>\n",
       "</div>"
      ],
      "text/plain": [
       "  col1 col2  col3\n",
       "0    x    y     1\n",
       "1    a    b     2\n",
       "2    c    d     3"
      ]
     },
     "execution_count": 26,
     "metadata": {},
     "output_type": "execute_result"
    }
   ],
   "source": [
    "pd.read_csv(StringIO(data))"
   ]
  },
  {
   "cell_type": "code",
   "execution_count": 27,
   "id": "189e7451",
   "metadata": {},
   "outputs": [],
   "source": [
    "df=pd.read_csv(StringIO(data),usecols=lambda x: x.upper()in['col1','col3'])"
   ]
  },
  {
   "cell_type": "code",
   "execution_count": 28,
   "id": "0a5cb74c",
   "metadata": {},
   "outputs": [],
   "source": [
    "df=pd.read_csv(StringIO(data),usecols=['col1','col3'])"
   ]
  },
  {
   "cell_type": "code",
   "execution_count": 29,
   "id": "651f648e",
   "metadata": {},
   "outputs": [
    {
     "data": {
      "text/html": [
       "<div>\n",
       "<style scoped>\n",
       "    .dataframe tbody tr th:only-of-type {\n",
       "        vertical-align: middle;\n",
       "    }\n",
       "\n",
       "    .dataframe tbody tr th {\n",
       "        vertical-align: top;\n",
       "    }\n",
       "\n",
       "    .dataframe thead th {\n",
       "        text-align: right;\n",
       "    }\n",
       "</style>\n",
       "<table border=\"1\" class=\"dataframe\">\n",
       "  <thead>\n",
       "    <tr style=\"text-align: right;\">\n",
       "      <th></th>\n",
       "      <th>col1</th>\n",
       "      <th>col3</th>\n",
       "    </tr>\n",
       "  </thead>\n",
       "  <tbody>\n",
       "    <tr>\n",
       "      <th>0</th>\n",
       "      <td>x</td>\n",
       "      <td>1</td>\n",
       "    </tr>\n",
       "    <tr>\n",
       "      <th>1</th>\n",
       "      <td>a</td>\n",
       "      <td>2</td>\n",
       "    </tr>\n",
       "    <tr>\n",
       "      <th>2</th>\n",
       "      <td>c</td>\n",
       "      <td>3</td>\n",
       "    </tr>\n",
       "  </tbody>\n",
       "</table>\n",
       "</div>"
      ],
      "text/plain": [
       "  col1  col3\n",
       "0    x     1\n",
       "1    a     2\n",
       "2    c     3"
      ]
     },
     "execution_count": 29,
     "metadata": {},
     "output_type": "execute_result"
    }
   ],
   "source": [
    "df"
   ]
  },
  {
   "cell_type": "code",
   "execution_count": null,
   "id": "f3492e2a",
   "metadata": {},
   "outputs": [],
   "source": []
  },
  {
   "cell_type": "code",
   "execution_count": 30,
   "id": "5a5868a6",
   "metadata": {},
   "outputs": [],
   "source": [
    "df=pd.read_csv(StringIO(data),dtype=object)"
   ]
  },
  {
   "cell_type": "code",
   "execution_count": 31,
   "id": "119ac836",
   "metadata": {},
   "outputs": [],
   "source": [
    "data = ('a,b,c,d\\n'\n",
    "       '1,2,3,4\\n'\n",
    "       '5,6,7,8\\n'\n",
    "       '9,10,11,12')"
   ]
  },
  {
   "cell_type": "code",
   "execution_count": 32,
   "id": "c3ed1cce",
   "metadata": {},
   "outputs": [],
   "source": [
    "df=pd.read_csv(StringIO(data),dtype=float)"
   ]
  },
  {
   "cell_type": "code",
   "execution_count": 33,
   "id": "6a172fd2",
   "metadata": {},
   "outputs": [
    {
     "data": {
      "text/html": [
       "<div>\n",
       "<style scoped>\n",
       "    .dataframe tbody tr th:only-of-type {\n",
       "        vertical-align: middle;\n",
       "    }\n",
       "\n",
       "    .dataframe tbody tr th {\n",
       "        vertical-align: top;\n",
       "    }\n",
       "\n",
       "    .dataframe thead th {\n",
       "        text-align: right;\n",
       "    }\n",
       "</style>\n",
       "<table border=\"1\" class=\"dataframe\">\n",
       "  <thead>\n",
       "    <tr style=\"text-align: right;\">\n",
       "      <th></th>\n",
       "      <th>a</th>\n",
       "      <th>b</th>\n",
       "      <th>c</th>\n",
       "      <th>d</th>\n",
       "    </tr>\n",
       "  </thead>\n",
       "  <tbody>\n",
       "    <tr>\n",
       "      <th>0</th>\n",
       "      <td>1.0</td>\n",
       "      <td>2.0</td>\n",
       "      <td>3.0</td>\n",
       "      <td>4.0</td>\n",
       "    </tr>\n",
       "    <tr>\n",
       "      <th>1</th>\n",
       "      <td>5.0</td>\n",
       "      <td>6.0</td>\n",
       "      <td>7.0</td>\n",
       "      <td>8.0</td>\n",
       "    </tr>\n",
       "    <tr>\n",
       "      <th>2</th>\n",
       "      <td>9.0</td>\n",
       "      <td>10.0</td>\n",
       "      <td>11.0</td>\n",
       "      <td>12.0</td>\n",
       "    </tr>\n",
       "  </tbody>\n",
       "</table>\n",
       "</div>"
      ],
      "text/plain": [
       "     a     b     c     d\n",
       "0  1.0   2.0   3.0   4.0\n",
       "1  5.0   6.0   7.0   8.0\n",
       "2  9.0  10.0  11.0  12.0"
      ]
     },
     "execution_count": 33,
     "metadata": {},
     "output_type": "execute_result"
    }
   ],
   "source": [
    "df"
   ]
  },
  {
   "cell_type": "code",
   "execution_count": 34,
   "id": "d03ae519",
   "metadata": {},
   "outputs": [
    {
     "data": {
      "text/plain": [
       "0    1.0\n",
       "1    5.0\n",
       "2    9.0\n",
       "Name: a, dtype: float64"
      ]
     },
     "execution_count": 34,
     "metadata": {},
     "output_type": "execute_result"
    }
   ],
   "source": [
    "df['a']"
   ]
  },
  {
   "cell_type": "code",
   "execution_count": 35,
   "id": "8b35db8e",
   "metadata": {},
   "outputs": [
    {
     "data": {
      "text/plain": [
       "5.0"
      ]
     },
     "execution_count": 35,
     "metadata": {},
     "output_type": "execute_result"
    }
   ],
   "source": [
    "df['a'][1]"
   ]
  },
  {
   "cell_type": "code",
   "execution_count": 36,
   "id": "d5e0ac65",
   "metadata": {},
   "outputs": [],
   "source": [
    "df=pd.read_csv(StringIO(data),dtype={'b':int,'c':float,'a':'Int64'})"
   ]
  },
  {
   "cell_type": "code",
   "execution_count": 37,
   "id": "ae8658bc",
   "metadata": {},
   "outputs": [
    {
     "data": {
      "text/html": [
       "<div>\n",
       "<style scoped>\n",
       "    .dataframe tbody tr th:only-of-type {\n",
       "        vertical-align: middle;\n",
       "    }\n",
       "\n",
       "    .dataframe tbody tr th {\n",
       "        vertical-align: top;\n",
       "    }\n",
       "\n",
       "    .dataframe thead th {\n",
       "        text-align: right;\n",
       "    }\n",
       "</style>\n",
       "<table border=\"1\" class=\"dataframe\">\n",
       "  <thead>\n",
       "    <tr style=\"text-align: right;\">\n",
       "      <th></th>\n",
       "      <th>a</th>\n",
       "      <th>b</th>\n",
       "      <th>c</th>\n",
       "      <th>d</th>\n",
       "    </tr>\n",
       "  </thead>\n",
       "  <tbody>\n",
       "    <tr>\n",
       "      <th>0</th>\n",
       "      <td>1</td>\n",
       "      <td>2</td>\n",
       "      <td>3.0</td>\n",
       "      <td>4</td>\n",
       "    </tr>\n",
       "    <tr>\n",
       "      <th>1</th>\n",
       "      <td>5</td>\n",
       "      <td>6</td>\n",
       "      <td>7.0</td>\n",
       "      <td>8</td>\n",
       "    </tr>\n",
       "    <tr>\n",
       "      <th>2</th>\n",
       "      <td>9</td>\n",
       "      <td>10</td>\n",
       "      <td>11.0</td>\n",
       "      <td>12</td>\n",
       "    </tr>\n",
       "  </tbody>\n",
       "</table>\n",
       "</div>"
      ],
      "text/plain": [
       "   a   b     c   d\n",
       "0  1   2   3.0   4\n",
       "1  5   6   7.0   8\n",
       "2  9  10  11.0  12"
      ]
     },
     "execution_count": 37,
     "metadata": {},
     "output_type": "execute_result"
    }
   ],
   "source": [
    "df"
   ]
  },
  {
   "cell_type": "code",
   "execution_count": 38,
   "id": "4db86783",
   "metadata": {},
   "outputs": [
    {
     "data": {
      "text/plain": [
       "a      Int64\n",
       "b      int32\n",
       "c    float64\n",
       "d      int64\n",
       "dtype: object"
      ]
     },
     "execution_count": 38,
     "metadata": {},
     "output_type": "execute_result"
    }
   ],
   "source": [
    "df.dtypes"
   ]
  },
  {
   "cell_type": "code",
   "execution_count": 39,
   "id": "9cbd3db0",
   "metadata": {},
   "outputs": [],
   "source": [
    "data = ('index,a,b,c\\n'\n",
    "        '4,apple,bat,5.7\\n'\n",
    "        '8,orane,cow,10'\n",
    ")"
   ]
  },
  {
   "cell_type": "code",
   "execution_count": 40,
   "id": "7148fd51",
   "metadata": {},
   "outputs": [
    {
     "data": {
      "text/html": [
       "<div>\n",
       "<style scoped>\n",
       "    .dataframe tbody tr th:only-of-type {\n",
       "        vertical-align: middle;\n",
       "    }\n",
       "\n",
       "    .dataframe tbody tr th {\n",
       "        vertical-align: top;\n",
       "    }\n",
       "\n",
       "    .dataframe thead th {\n",
       "        text-align: right;\n",
       "    }\n",
       "</style>\n",
       "<table border=\"1\" class=\"dataframe\">\n",
       "  <thead>\n",
       "    <tr style=\"text-align: right;\">\n",
       "      <th></th>\n",
       "      <th>a</th>\n",
       "      <th>b</th>\n",
       "      <th>c</th>\n",
       "    </tr>\n",
       "    <tr>\n",
       "      <th>index</th>\n",
       "      <th></th>\n",
       "      <th></th>\n",
       "      <th></th>\n",
       "    </tr>\n",
       "  </thead>\n",
       "  <tbody>\n",
       "    <tr>\n",
       "      <th>4</th>\n",
       "      <td>apple</td>\n",
       "      <td>bat</td>\n",
       "      <td>5.7</td>\n",
       "    </tr>\n",
       "    <tr>\n",
       "      <th>8</th>\n",
       "      <td>orane</td>\n",
       "      <td>cow</td>\n",
       "      <td>10.0</td>\n",
       "    </tr>\n",
       "  </tbody>\n",
       "</table>\n",
       "</div>"
      ],
      "text/plain": [
       "           a    b     c\n",
       "index                  \n",
       "4      apple  bat   5.7\n",
       "8      orane  cow  10.0"
      ]
     },
     "execution_count": 40,
     "metadata": {},
     "output_type": "execute_result"
    }
   ],
   "source": [
    "pd.read_csv(StringIO(data),index_col=0)"
   ]
  },
  {
   "cell_type": "code",
   "execution_count": 41,
   "id": "c5a0651a",
   "metadata": {},
   "outputs": [
    {
     "data": {
      "text/html": [
       "<div>\n",
       "<style scoped>\n",
       "    .dataframe tbody tr th:only-of-type {\n",
       "        vertical-align: middle;\n",
       "    }\n",
       "\n",
       "    .dataframe tbody tr th {\n",
       "        vertical-align: top;\n",
       "    }\n",
       "\n",
       "    .dataframe thead th {\n",
       "        text-align: right;\n",
       "    }\n",
       "</style>\n",
       "<table border=\"1\" class=\"dataframe\">\n",
       "  <thead>\n",
       "    <tr style=\"text-align: right;\">\n",
       "      <th></th>\n",
       "      <th>index</th>\n",
       "      <th>a</th>\n",
       "      <th>b</th>\n",
       "      <th>c</th>\n",
       "    </tr>\n",
       "  </thead>\n",
       "  <tbody>\n",
       "    <tr>\n",
       "      <th>0</th>\n",
       "      <td>4</td>\n",
       "      <td>apple</td>\n",
       "      <td>bat</td>\n",
       "      <td>5.7</td>\n",
       "    </tr>\n",
       "    <tr>\n",
       "      <th>1</th>\n",
       "      <td>8</td>\n",
       "      <td>orane</td>\n",
       "      <td>cow</td>\n",
       "      <td>10.0</td>\n",
       "    </tr>\n",
       "  </tbody>\n",
       "</table>\n",
       "</div>"
      ],
      "text/plain": [
       "   index      a    b     c\n",
       "0      4  apple  bat   5.7\n",
       "1      8  orane  cow  10.0"
      ]
     },
     "execution_count": 41,
     "metadata": {},
     "output_type": "execute_result"
    }
   ],
   "source": [
    "pd.read_csv(StringIO(data))"
   ]
  },
  {
   "cell_type": "code",
   "execution_count": 42,
   "id": "8e9c8e8d",
   "metadata": {},
   "outputs": [],
   "source": [
    " data = ('a,b,c\\n'\n",
    "        '4,apple,bat\\n'\n",
    "        '8,orane,cow'\n",
    ")"
   ]
  },
  {
   "cell_type": "code",
   "execution_count": 43,
   "id": "07e2064f",
   "metadata": {},
   "outputs": [
    {
     "data": {
      "text/html": [
       "<div>\n",
       "<style scoped>\n",
       "    .dataframe tbody tr th:only-of-type {\n",
       "        vertical-align: middle;\n",
       "    }\n",
       "\n",
       "    .dataframe tbody tr th {\n",
       "        vertical-align: top;\n",
       "    }\n",
       "\n",
       "    .dataframe thead th {\n",
       "        text-align: right;\n",
       "    }\n",
       "</style>\n",
       "<table border=\"1\" class=\"dataframe\">\n",
       "  <thead>\n",
       "    <tr style=\"text-align: right;\">\n",
       "      <th></th>\n",
       "      <th>a</th>\n",
       "      <th>b</th>\n",
       "      <th>c</th>\n",
       "    </tr>\n",
       "  </thead>\n",
       "  <tbody>\n",
       "    <tr>\n",
       "      <th>0</th>\n",
       "      <td>4</td>\n",
       "      <td>apple</td>\n",
       "      <td>bat</td>\n",
       "    </tr>\n",
       "    <tr>\n",
       "      <th>1</th>\n",
       "      <td>8</td>\n",
       "      <td>orane</td>\n",
       "      <td>cow</td>\n",
       "    </tr>\n",
       "  </tbody>\n",
       "</table>\n",
       "</div>"
      ],
      "text/plain": [
       "   a      b    c\n",
       "0  4  apple  bat\n",
       "1  8  orane  cow"
      ]
     },
     "execution_count": 43,
     "metadata": {},
     "output_type": "execute_result"
    }
   ],
   "source": [
    "pd.read_csv(StringIO(data))"
   ]
  },
  {
   "cell_type": "code",
   "execution_count": 44,
   "id": "727d5e68",
   "metadata": {},
   "outputs": [
    {
     "data": {
      "text/html": [
       "<div>\n",
       "<style scoped>\n",
       "    .dataframe tbody tr th:only-of-type {\n",
       "        vertical-align: middle;\n",
       "    }\n",
       "\n",
       "    .dataframe tbody tr th {\n",
       "        vertical-align: top;\n",
       "    }\n",
       "\n",
       "    .dataframe thead th {\n",
       "        text-align: right;\n",
       "    }\n",
       "</style>\n",
       "<table border=\"1\" class=\"dataframe\">\n",
       "  <thead>\n",
       "    <tr style=\"text-align: right;\">\n",
       "      <th></th>\n",
       "      <th>b</th>\n",
       "      <th>c</th>\n",
       "    </tr>\n",
       "    <tr>\n",
       "      <th>a</th>\n",
       "      <th></th>\n",
       "      <th></th>\n",
       "    </tr>\n",
       "  </thead>\n",
       "  <tbody>\n",
       "    <tr>\n",
       "      <th>4</th>\n",
       "      <td>apple</td>\n",
       "      <td>bat</td>\n",
       "    </tr>\n",
       "    <tr>\n",
       "      <th>8</th>\n",
       "      <td>orane</td>\n",
       "      <td>cow</td>\n",
       "    </tr>\n",
       "  </tbody>\n",
       "</table>\n",
       "</div>"
      ],
      "text/plain": [
       "       b    c\n",
       "a            \n",
       "4  apple  bat\n",
       "8  orane  cow"
      ]
     },
     "execution_count": 44,
     "metadata": {},
     "output_type": "execute_result"
    }
   ],
   "source": [
    "pd.read_csv(StringIO(data),index_col=0)"
   ]
  },
  {
   "cell_type": "code",
   "execution_count": 45,
   "id": "5bc2b373",
   "metadata": {},
   "outputs": [
    {
     "data": {
      "text/html": [
       "<div>\n",
       "<style scoped>\n",
       "    .dataframe tbody tr th:only-of-type {\n",
       "        vertical-align: middle;\n",
       "    }\n",
       "\n",
       "    .dataframe tbody tr th {\n",
       "        vertical-align: top;\n",
       "    }\n",
       "\n",
       "    .dataframe thead th {\n",
       "        text-align: right;\n",
       "    }\n",
       "</style>\n",
       "<table border=\"1\" class=\"dataframe\">\n",
       "  <thead>\n",
       "    <tr style=\"text-align: right;\">\n",
       "      <th></th>\n",
       "      <th>b</th>\n",
       "      <th>c</th>\n",
       "    </tr>\n",
       "  </thead>\n",
       "  <tbody>\n",
       "    <tr>\n",
       "      <th>0</th>\n",
       "      <td>apple</td>\n",
       "      <td>bat</td>\n",
       "    </tr>\n",
       "    <tr>\n",
       "      <th>1</th>\n",
       "      <td>orane</td>\n",
       "      <td>cow</td>\n",
       "    </tr>\n",
       "  </tbody>\n",
       "</table>\n",
       "</div>"
      ],
      "text/plain": [
       "       b    c\n",
       "0  apple  bat\n",
       "1  orane  cow"
      ]
     },
     "execution_count": 45,
     "metadata": {},
     "output_type": "execute_result"
    }
   ],
   "source": [
    "pd.read_csv(StringIO(data),usecols=['b','c'])"
   ]
  },
  {
   "cell_type": "code",
   "execution_count": 46,
   "id": "746ade9e",
   "metadata": {},
   "outputs": [],
   "source": [
    "data = 'a,b\\n\"hello,\\\\\"Bob\\\\\",nice to meet you\",5'"
   ]
  },
  {
   "cell_type": "code",
   "execution_count": 47,
   "id": "1a4bd70d",
   "metadata": {},
   "outputs": [
    {
     "data": {
      "text/html": [
       "<div>\n",
       "<style scoped>\n",
       "    .dataframe tbody tr th:only-of-type {\n",
       "        vertical-align: middle;\n",
       "    }\n",
       "\n",
       "    .dataframe tbody tr th {\n",
       "        vertical-align: top;\n",
       "    }\n",
       "\n",
       "    .dataframe thead th {\n",
       "        text-align: right;\n",
       "    }\n",
       "</style>\n",
       "<table border=\"1\" class=\"dataframe\">\n",
       "  <thead>\n",
       "    <tr style=\"text-align: right;\">\n",
       "      <th></th>\n",
       "      <th>a</th>\n",
       "      <th>b</th>\n",
       "    </tr>\n",
       "  </thead>\n",
       "  <tbody>\n",
       "    <tr>\n",
       "      <th>0</th>\n",
       "      <td>hello,\"Bob\",nice to meet you</td>\n",
       "      <td>5</td>\n",
       "    </tr>\n",
       "  </tbody>\n",
       "</table>\n",
       "</div>"
      ],
      "text/plain": [
       "                              a  b\n",
       "0  hello,\"Bob\",nice to meet you  5"
      ]
     },
     "execution_count": 47,
     "metadata": {},
     "output_type": "execute_result"
    }
   ],
   "source": [
    "pd.read_csv(StringIO(data),escapechar='\\\\')"
   ]
  },
  {
   "cell_type": "code",
   "execution_count": 48,
   "id": "d4f598ce",
   "metadata": {},
   "outputs": [],
   "source": [
    "df=pd.read_csv('https://www.stats.govt.nz/assets/Uploads/Annual-enterprise-survey/Annual-enterprise-survey-2021-financial-year-provisional/Download-data/annual-enterprise-survey-2021-financial-year-provisional-csv.csv')"
   ]
  },
  {
   "cell_type": "code",
   "execution_count": 49,
   "id": "577a5382",
   "metadata": {},
   "outputs": [
    {
     "data": {
      "text/html": [
       "<div>\n",
       "<style scoped>\n",
       "    .dataframe tbody tr th:only-of-type {\n",
       "        vertical-align: middle;\n",
       "    }\n",
       "\n",
       "    .dataframe tbody tr th {\n",
       "        vertical-align: top;\n",
       "    }\n",
       "\n",
       "    .dataframe thead th {\n",
       "        text-align: right;\n",
       "    }\n",
       "</style>\n",
       "<table border=\"1\" class=\"dataframe\">\n",
       "  <thead>\n",
       "    <tr style=\"text-align: right;\">\n",
       "      <th></th>\n",
       "      <th>Year</th>\n",
       "      <th>Industry_aggregation_NZSIOC</th>\n",
       "      <th>Industry_code_NZSIOC</th>\n",
       "      <th>Industry_name_NZSIOC</th>\n",
       "      <th>Units</th>\n",
       "      <th>Variable_code</th>\n",
       "      <th>Variable_name</th>\n",
       "      <th>Variable_category</th>\n",
       "      <th>Value</th>\n",
       "      <th>Industry_code_ANZSIC06</th>\n",
       "    </tr>\n",
       "  </thead>\n",
       "  <tbody>\n",
       "    <tr>\n",
       "      <th>0</th>\n",
       "      <td>2021</td>\n",
       "      <td>Level 1</td>\n",
       "      <td>99999</td>\n",
       "      <td>All industries</td>\n",
       "      <td>Dollars (millions)</td>\n",
       "      <td>H01</td>\n",
       "      <td>Total income</td>\n",
       "      <td>Financial performance</td>\n",
       "      <td>757,504</td>\n",
       "      <td>ANZSIC06 divisions A-S (excluding classes K633...</td>\n",
       "    </tr>\n",
       "    <tr>\n",
       "      <th>1</th>\n",
       "      <td>2021</td>\n",
       "      <td>Level 1</td>\n",
       "      <td>99999</td>\n",
       "      <td>All industries</td>\n",
       "      <td>Dollars (millions)</td>\n",
       "      <td>H04</td>\n",
       "      <td>Sales, government funding, grants and subsidies</td>\n",
       "      <td>Financial performance</td>\n",
       "      <td>674,890</td>\n",
       "      <td>ANZSIC06 divisions A-S (excluding classes K633...</td>\n",
       "    </tr>\n",
       "    <tr>\n",
       "      <th>2</th>\n",
       "      <td>2021</td>\n",
       "      <td>Level 1</td>\n",
       "      <td>99999</td>\n",
       "      <td>All industries</td>\n",
       "      <td>Dollars (millions)</td>\n",
       "      <td>H05</td>\n",
       "      <td>Interest, dividends and donations</td>\n",
       "      <td>Financial performance</td>\n",
       "      <td>49,593</td>\n",
       "      <td>ANZSIC06 divisions A-S (excluding classes K633...</td>\n",
       "    </tr>\n",
       "    <tr>\n",
       "      <th>3</th>\n",
       "      <td>2021</td>\n",
       "      <td>Level 1</td>\n",
       "      <td>99999</td>\n",
       "      <td>All industries</td>\n",
       "      <td>Dollars (millions)</td>\n",
       "      <td>H07</td>\n",
       "      <td>Non-operating income</td>\n",
       "      <td>Financial performance</td>\n",
       "      <td>33,020</td>\n",
       "      <td>ANZSIC06 divisions A-S (excluding classes K633...</td>\n",
       "    </tr>\n",
       "    <tr>\n",
       "      <th>4</th>\n",
       "      <td>2021</td>\n",
       "      <td>Level 1</td>\n",
       "      <td>99999</td>\n",
       "      <td>All industries</td>\n",
       "      <td>Dollars (millions)</td>\n",
       "      <td>H08</td>\n",
       "      <td>Total expenditure</td>\n",
       "      <td>Financial performance</td>\n",
       "      <td>654,404</td>\n",
       "      <td>ANZSIC06 divisions A-S (excluding classes K633...</td>\n",
       "    </tr>\n",
       "  </tbody>\n",
       "</table>\n",
       "</div>"
      ],
      "text/plain": [
       "   Year Industry_aggregation_NZSIOC Industry_code_NZSIOC Industry_name_NZSIOC  \\\n",
       "0  2021                     Level 1                99999       All industries   \n",
       "1  2021                     Level 1                99999       All industries   \n",
       "2  2021                     Level 1                99999       All industries   \n",
       "3  2021                     Level 1                99999       All industries   \n",
       "4  2021                     Level 1                99999       All industries   \n",
       "\n",
       "                Units Variable_code  \\\n",
       "0  Dollars (millions)           H01   \n",
       "1  Dollars (millions)           H04   \n",
       "2  Dollars (millions)           H05   \n",
       "3  Dollars (millions)           H07   \n",
       "4  Dollars (millions)           H08   \n",
       "\n",
       "                                     Variable_name      Variable_category  \\\n",
       "0                                     Total income  Financial performance   \n",
       "1  Sales, government funding, grants and subsidies  Financial performance   \n",
       "2                Interest, dividends and donations  Financial performance   \n",
       "3                             Non-operating income  Financial performance   \n",
       "4                                Total expenditure  Financial performance   \n",
       "\n",
       "     Value                             Industry_code_ANZSIC06  \n",
       "0  757,504  ANZSIC06 divisions A-S (excluding classes K633...  \n",
       "1  674,890  ANZSIC06 divisions A-S (excluding classes K633...  \n",
       "2   49,593  ANZSIC06 divisions A-S (excluding classes K633...  \n",
       "3   33,020  ANZSIC06 divisions A-S (excluding classes K633...  \n",
       "4  654,404  ANZSIC06 divisions A-S (excluding classes K633...  "
      ]
     },
     "execution_count": 49,
     "metadata": {},
     "output_type": "execute_result"
    }
   ],
   "source": [
    "df.head()"
   ]
  },
  {
   "cell_type": "code",
   "execution_count": 52,
   "id": "69a15f66",
   "metadata": {},
   "outputs": [],
   "source": [
    "data = '{\"emp. name\": \"Atri\",\"email\":\"atrithaker122@gmail.com\",\"job_profile\":[{\"title1\":\"Team Lead\",\"title2\":\"senior developer\"}]}'"
   ]
  },
  {
   "cell_type": "code",
   "execution_count": 58,
   "id": "b112dedb",
   "metadata": {},
   "outputs": [],
   "source": [
    "df1=pd.read_json(data)"
   ]
  },
  {
   "cell_type": "code",
   "execution_count": 54,
   "id": "1b274d14",
   "metadata": {},
   "outputs": [],
   "source": [
    "df=pd.read_csv('https://archive.ics.uci.edu/ml/machine-learning-databases/wine/wine.data',header=None)"
   ]
  },
  {
   "cell_type": "code",
   "execution_count": 55,
   "id": "09f33582",
   "metadata": {},
   "outputs": [
    {
     "data": {
      "text/html": [
       "<div>\n",
       "<style scoped>\n",
       "    .dataframe tbody tr th:only-of-type {\n",
       "        vertical-align: middle;\n",
       "    }\n",
       "\n",
       "    .dataframe tbody tr th {\n",
       "        vertical-align: top;\n",
       "    }\n",
       "\n",
       "    .dataframe thead th {\n",
       "        text-align: right;\n",
       "    }\n",
       "</style>\n",
       "<table border=\"1\" class=\"dataframe\">\n",
       "  <thead>\n",
       "    <tr style=\"text-align: right;\">\n",
       "      <th></th>\n",
       "      <th>0</th>\n",
       "      <th>1</th>\n",
       "      <th>2</th>\n",
       "      <th>3</th>\n",
       "      <th>4</th>\n",
       "      <th>5</th>\n",
       "      <th>6</th>\n",
       "      <th>7</th>\n",
       "      <th>8</th>\n",
       "      <th>9</th>\n",
       "      <th>10</th>\n",
       "      <th>11</th>\n",
       "      <th>12</th>\n",
       "      <th>13</th>\n",
       "    </tr>\n",
       "  </thead>\n",
       "  <tbody>\n",
       "    <tr>\n",
       "      <th>0</th>\n",
       "      <td>1</td>\n",
       "      <td>14.23</td>\n",
       "      <td>1.71</td>\n",
       "      <td>2.43</td>\n",
       "      <td>15.6</td>\n",
       "      <td>127</td>\n",
       "      <td>2.80</td>\n",
       "      <td>3.06</td>\n",
       "      <td>0.28</td>\n",
       "      <td>2.29</td>\n",
       "      <td>5.64</td>\n",
       "      <td>1.04</td>\n",
       "      <td>3.92</td>\n",
       "      <td>1065</td>\n",
       "    </tr>\n",
       "    <tr>\n",
       "      <th>1</th>\n",
       "      <td>1</td>\n",
       "      <td>13.20</td>\n",
       "      <td>1.78</td>\n",
       "      <td>2.14</td>\n",
       "      <td>11.2</td>\n",
       "      <td>100</td>\n",
       "      <td>2.65</td>\n",
       "      <td>2.76</td>\n",
       "      <td>0.26</td>\n",
       "      <td>1.28</td>\n",
       "      <td>4.38</td>\n",
       "      <td>1.05</td>\n",
       "      <td>3.40</td>\n",
       "      <td>1050</td>\n",
       "    </tr>\n",
       "    <tr>\n",
       "      <th>2</th>\n",
       "      <td>1</td>\n",
       "      <td>13.16</td>\n",
       "      <td>2.36</td>\n",
       "      <td>2.67</td>\n",
       "      <td>18.6</td>\n",
       "      <td>101</td>\n",
       "      <td>2.80</td>\n",
       "      <td>3.24</td>\n",
       "      <td>0.30</td>\n",
       "      <td>2.81</td>\n",
       "      <td>5.68</td>\n",
       "      <td>1.03</td>\n",
       "      <td>3.17</td>\n",
       "      <td>1185</td>\n",
       "    </tr>\n",
       "    <tr>\n",
       "      <th>3</th>\n",
       "      <td>1</td>\n",
       "      <td>14.37</td>\n",
       "      <td>1.95</td>\n",
       "      <td>2.50</td>\n",
       "      <td>16.8</td>\n",
       "      <td>113</td>\n",
       "      <td>3.85</td>\n",
       "      <td>3.49</td>\n",
       "      <td>0.24</td>\n",
       "      <td>2.18</td>\n",
       "      <td>7.80</td>\n",
       "      <td>0.86</td>\n",
       "      <td>3.45</td>\n",
       "      <td>1480</td>\n",
       "    </tr>\n",
       "    <tr>\n",
       "      <th>4</th>\n",
       "      <td>1</td>\n",
       "      <td>13.24</td>\n",
       "      <td>2.59</td>\n",
       "      <td>2.87</td>\n",
       "      <td>21.0</td>\n",
       "      <td>118</td>\n",
       "      <td>2.80</td>\n",
       "      <td>2.69</td>\n",
       "      <td>0.39</td>\n",
       "      <td>1.82</td>\n",
       "      <td>4.32</td>\n",
       "      <td>1.04</td>\n",
       "      <td>2.93</td>\n",
       "      <td>735</td>\n",
       "    </tr>\n",
       "  </tbody>\n",
       "</table>\n",
       "</div>"
      ],
      "text/plain": [
       "   0      1     2     3     4    5     6     7     8     9     10    11    12  \\\n",
       "0   1  14.23  1.71  2.43  15.6  127  2.80  3.06  0.28  2.29  5.64  1.04  3.92   \n",
       "1   1  13.20  1.78  2.14  11.2  100  2.65  2.76  0.26  1.28  4.38  1.05  3.40   \n",
       "2   1  13.16  2.36  2.67  18.6  101  2.80  3.24  0.30  2.81  5.68  1.03  3.17   \n",
       "3   1  14.37  1.95  2.50  16.8  113  3.85  3.49  0.24  2.18  7.80  0.86  3.45   \n",
       "4   1  13.24  2.59  2.87  21.0  118  2.80  2.69  0.39  1.82  4.32  1.04  2.93   \n",
       "\n",
       "     13  \n",
       "0  1065  \n",
       "1  1050  \n",
       "2  1185  \n",
       "3  1480  \n",
       "4   735  "
      ]
     },
     "execution_count": 55,
     "metadata": {},
     "output_type": "execute_result"
    }
   ],
   "source": [
    "df.head()"
   ]
  },
  {
   "cell_type": "code",
   "execution_count": 56,
   "id": "c71e684f",
   "metadata": {},
   "outputs": [],
   "source": [
    "df.to_csv('wine.csv')"
   ]
  },
  {
   "cell_type": "code",
   "execution_count": 57,
   "id": "6d2123ac",
   "metadata": {},
   "outputs": [
    {
     "data": {
      "text/plain": [
       "'{\"0\":{\"0\":1,\"1\":14.23,\"2\":1.71,\"3\":2.43,\"4\":15.6,\"5\":127,\"6\":2.8,\"7\":3.06,\"8\":0.28,\"9\":2.29,\"10\":5.64,\"11\":1.04,\"12\":3.92,\"13\":1065},\"1\":{\"0\":1,\"1\":13.2,\"2\":1.78,\"3\":2.14,\"4\":11.2,\"5\":100,\"6\":2.65,\"7\":2.76,\"8\":0.26,\"9\":1.28,\"10\":4.38,\"11\":1.05,\"12\":3.4,\"13\":1050},\"2\":{\"0\":1,\"1\":13.16,\"2\":2.36,\"3\":2.67,\"4\":18.6,\"5\":101,\"6\":2.8,\"7\":3.24,\"8\":0.3,\"9\":2.81,\"10\":5.68,\"11\":1.03,\"12\":3.17,\"13\":1185},\"3\":{\"0\":1,\"1\":14.37,\"2\":1.95,\"3\":2.5,\"4\":16.8,\"5\":113,\"6\":3.85,\"7\":3.49,\"8\":0.24,\"9\":2.18,\"10\":7.8,\"11\":0.86,\"12\":3.45,\"13\":1480},\"4\":{\"0\":1,\"1\":13.24,\"2\":2.59,\"3\":2.87,\"4\":21.0,\"5\":118,\"6\":2.8,\"7\":2.69,\"8\":0.39,\"9\":1.82,\"10\":4.32,\"11\":1.04,\"12\":2.93,\"13\":735},\"5\":{\"0\":1,\"1\":14.2,\"2\":1.76,\"3\":2.45,\"4\":15.2,\"5\":112,\"6\":3.27,\"7\":3.39,\"8\":0.34,\"9\":1.97,\"10\":6.75,\"11\":1.05,\"12\":2.85,\"13\":1450},\"6\":{\"0\":1,\"1\":14.39,\"2\":1.87,\"3\":2.45,\"4\":14.6,\"5\":96,\"6\":2.5,\"7\":2.52,\"8\":0.3,\"9\":1.98,\"10\":5.25,\"11\":1.02,\"12\":3.58,\"13\":1290},\"7\":{\"0\":1,\"1\":14.06,\"2\":2.15,\"3\":2.61,\"4\":17.6,\"5\":121,\"6\":2.6,\"7\":2.51,\"8\":0.31,\"9\":1.25,\"10\":5.05,\"11\":1.06,\"12\":3.58,\"13\":1295},\"8\":{\"0\":1,\"1\":14.83,\"2\":1.64,\"3\":2.17,\"4\":14.0,\"5\":97,\"6\":2.8,\"7\":2.98,\"8\":0.29,\"9\":1.98,\"10\":5.2,\"11\":1.08,\"12\":2.85,\"13\":1045},\"9\":{\"0\":1,\"1\":13.86,\"2\":1.35,\"3\":2.27,\"4\":16.0,\"5\":98,\"6\":2.98,\"7\":3.15,\"8\":0.22,\"9\":1.85,\"10\":7.22,\"11\":1.01,\"12\":3.55,\"13\":1045},\"10\":{\"0\":1,\"1\":14.1,\"2\":2.16,\"3\":2.3,\"4\":18.0,\"5\":105,\"6\":2.95,\"7\":3.32,\"8\":0.22,\"9\":2.38,\"10\":5.75,\"11\":1.25,\"12\":3.17,\"13\":1510},\"11\":{\"0\":1,\"1\":14.12,\"2\":1.48,\"3\":2.32,\"4\":16.8,\"5\":95,\"6\":2.2,\"7\":2.43,\"8\":0.26,\"9\":1.57,\"10\":5.0,\"11\":1.17,\"12\":2.82,\"13\":1280},\"12\":{\"0\":1,\"1\":13.75,\"2\":1.73,\"3\":2.41,\"4\":16.0,\"5\":89,\"6\":2.6,\"7\":2.76,\"8\":0.29,\"9\":1.81,\"10\":5.6,\"11\":1.15,\"12\":2.9,\"13\":1320},\"13\":{\"0\":1,\"1\":14.75,\"2\":1.73,\"3\":2.39,\"4\":11.4,\"5\":91,\"6\":3.1,\"7\":3.69,\"8\":0.43,\"9\":2.81,\"10\":5.4,\"11\":1.25,\"12\":2.73,\"13\":1150},\"14\":{\"0\":1,\"1\":14.38,\"2\":1.87,\"3\":2.38,\"4\":12.0,\"5\":102,\"6\":3.3,\"7\":3.64,\"8\":0.29,\"9\":2.96,\"10\":7.5,\"11\":1.2,\"12\":3.0,\"13\":1547},\"15\":{\"0\":1,\"1\":13.63,\"2\":1.81,\"3\":2.7,\"4\":17.2,\"5\":112,\"6\":2.85,\"7\":2.91,\"8\":0.3,\"9\":1.46,\"10\":7.3,\"11\":1.28,\"12\":2.88,\"13\":1310},\"16\":{\"0\":1,\"1\":14.3,\"2\":1.92,\"3\":2.72,\"4\":20.0,\"5\":120,\"6\":2.8,\"7\":3.14,\"8\":0.33,\"9\":1.97,\"10\":6.2,\"11\":1.07,\"12\":2.65,\"13\":1280},\"17\":{\"0\":1,\"1\":13.83,\"2\":1.57,\"3\":2.62,\"4\":20.0,\"5\":115,\"6\":2.95,\"7\":3.4,\"8\":0.4,\"9\":1.72,\"10\":6.6,\"11\":1.13,\"12\":2.57,\"13\":1130},\"18\":{\"0\":1,\"1\":14.19,\"2\":1.59,\"3\":2.48,\"4\":16.5,\"5\":108,\"6\":3.3,\"7\":3.93,\"8\":0.32,\"9\":1.86,\"10\":8.7,\"11\":1.23,\"12\":2.82,\"13\":1680},\"19\":{\"0\":1,\"1\":13.64,\"2\":3.1,\"3\":2.56,\"4\":15.2,\"5\":116,\"6\":2.7,\"7\":3.03,\"8\":0.17,\"9\":1.66,\"10\":5.1,\"11\":0.96,\"12\":3.36,\"13\":845},\"20\":{\"0\":1,\"1\":14.06,\"2\":1.63,\"3\":2.28,\"4\":16.0,\"5\":126,\"6\":3.0,\"7\":3.17,\"8\":0.24,\"9\":2.1,\"10\":5.65,\"11\":1.09,\"12\":3.71,\"13\":780},\"21\":{\"0\":1,\"1\":12.93,\"2\":3.8,\"3\":2.65,\"4\":18.6,\"5\":102,\"6\":2.41,\"7\":2.41,\"8\":0.25,\"9\":1.98,\"10\":4.5,\"11\":1.03,\"12\":3.52,\"13\":770},\"22\":{\"0\":1,\"1\":13.71,\"2\":1.86,\"3\":2.36,\"4\":16.6,\"5\":101,\"6\":2.61,\"7\":2.88,\"8\":0.27,\"9\":1.69,\"10\":3.8,\"11\":1.11,\"12\":4.0,\"13\":1035},\"23\":{\"0\":1,\"1\":12.85,\"2\":1.6,\"3\":2.52,\"4\":17.8,\"5\":95,\"6\":2.48,\"7\":2.37,\"8\":0.26,\"9\":1.46,\"10\":3.93,\"11\":1.09,\"12\":3.63,\"13\":1015},\"24\":{\"0\":1,\"1\":13.5,\"2\":1.81,\"3\":2.61,\"4\":20.0,\"5\":96,\"6\":2.53,\"7\":2.61,\"8\":0.28,\"9\":1.66,\"10\":3.52,\"11\":1.12,\"12\":3.82,\"13\":845},\"25\":{\"0\":1,\"1\":13.05,\"2\":2.05,\"3\":3.22,\"4\":25.0,\"5\":124,\"6\":2.63,\"7\":2.68,\"8\":0.47,\"9\":1.92,\"10\":3.58,\"11\":1.13,\"12\":3.2,\"13\":830},\"26\":{\"0\":1,\"1\":13.39,\"2\":1.77,\"3\":2.62,\"4\":16.1,\"5\":93,\"6\":2.85,\"7\":2.94,\"8\":0.34,\"9\":1.45,\"10\":4.8,\"11\":0.92,\"12\":3.22,\"13\":1195},\"27\":{\"0\":1,\"1\":13.3,\"2\":1.72,\"3\":2.14,\"4\":17.0,\"5\":94,\"6\":2.4,\"7\":2.19,\"8\":0.27,\"9\":1.35,\"10\":3.95,\"11\":1.02,\"12\":2.77,\"13\":1285},\"28\":{\"0\":1,\"1\":13.87,\"2\":1.9,\"3\":2.8,\"4\":19.4,\"5\":107,\"6\":2.95,\"7\":2.97,\"8\":0.37,\"9\":1.76,\"10\":4.5,\"11\":1.25,\"12\":3.4,\"13\":915},\"29\":{\"0\":1,\"1\":14.02,\"2\":1.68,\"3\":2.21,\"4\":16.0,\"5\":96,\"6\":2.65,\"7\":2.33,\"8\":0.26,\"9\":1.98,\"10\":4.7,\"11\":1.04,\"12\":3.59,\"13\":1035},\"30\":{\"0\":1,\"1\":13.73,\"2\":1.5,\"3\":2.7,\"4\":22.5,\"5\":101,\"6\":3.0,\"7\":3.25,\"8\":0.29,\"9\":2.38,\"10\":5.7,\"11\":1.19,\"12\":2.71,\"13\":1285},\"31\":{\"0\":1,\"1\":13.58,\"2\":1.66,\"3\":2.36,\"4\":19.1,\"5\":106,\"6\":2.86,\"7\":3.19,\"8\":0.22,\"9\":1.95,\"10\":6.9,\"11\":1.09,\"12\":2.88,\"13\":1515},\"32\":{\"0\":1,\"1\":13.68,\"2\":1.83,\"3\":2.36,\"4\":17.2,\"5\":104,\"6\":2.42,\"7\":2.69,\"8\":0.42,\"9\":1.97,\"10\":3.84,\"11\":1.23,\"12\":2.87,\"13\":990},\"33\":{\"0\":1,\"1\":13.76,\"2\":1.53,\"3\":2.7,\"4\":19.5,\"5\":132,\"6\":2.95,\"7\":2.74,\"8\":0.5,\"9\":1.35,\"10\":5.4,\"11\":1.25,\"12\":3.0,\"13\":1235},\"34\":{\"0\":1,\"1\":13.51,\"2\":1.8,\"3\":2.65,\"4\":19.0,\"5\":110,\"6\":2.35,\"7\":2.53,\"8\":0.29,\"9\":1.54,\"10\":4.2,\"11\":1.1,\"12\":2.87,\"13\":1095},\"35\":{\"0\":1,\"1\":13.48,\"2\":1.81,\"3\":2.41,\"4\":20.5,\"5\":100,\"6\":2.7,\"7\":2.98,\"8\":0.26,\"9\":1.86,\"10\":5.1,\"11\":1.04,\"12\":3.47,\"13\":920},\"36\":{\"0\":1,\"1\":13.28,\"2\":1.64,\"3\":2.84,\"4\":15.5,\"5\":110,\"6\":2.6,\"7\":2.68,\"8\":0.34,\"9\":1.36,\"10\":4.6,\"11\":1.09,\"12\":2.78,\"13\":880},\"37\":{\"0\":1,\"1\":13.05,\"2\":1.65,\"3\":2.55,\"4\":18.0,\"5\":98,\"6\":2.45,\"7\":2.43,\"8\":0.29,\"9\":1.44,\"10\":4.25,\"11\":1.12,\"12\":2.51,\"13\":1105},\"38\":{\"0\":1,\"1\":13.07,\"2\":1.5,\"3\":2.1,\"4\":15.5,\"5\":98,\"6\":2.4,\"7\":2.64,\"8\":0.28,\"9\":1.37,\"10\":3.7,\"11\":1.18,\"12\":2.69,\"13\":1020},\"39\":{\"0\":1,\"1\":14.22,\"2\":3.99,\"3\":2.51,\"4\":13.2,\"5\":128,\"6\":3.0,\"7\":3.04,\"8\":0.2,\"9\":2.08,\"10\":5.1,\"11\":0.89,\"12\":3.53,\"13\":760},\"40\":{\"0\":1,\"1\":13.56,\"2\":1.71,\"3\":2.31,\"4\":16.2,\"5\":117,\"6\":3.15,\"7\":3.29,\"8\":0.34,\"9\":2.34,\"10\":6.13,\"11\":0.95,\"12\":3.38,\"13\":795},\"41\":{\"0\":1,\"1\":13.41,\"2\":3.84,\"3\":2.12,\"4\":18.8,\"5\":90,\"6\":2.45,\"7\":2.68,\"8\":0.27,\"9\":1.48,\"10\":4.28,\"11\":0.91,\"12\":3.0,\"13\":1035},\"42\":{\"0\":1,\"1\":13.88,\"2\":1.89,\"3\":2.59,\"4\":15.0,\"5\":101,\"6\":3.25,\"7\":3.56,\"8\":0.17,\"9\":1.7,\"10\":5.43,\"11\":0.88,\"12\":3.56,\"13\":1095},\"43\":{\"0\":1,\"1\":13.24,\"2\":3.98,\"3\":2.29,\"4\":17.5,\"5\":103,\"6\":2.64,\"7\":2.63,\"8\":0.32,\"9\":1.66,\"10\":4.36,\"11\":0.82,\"12\":3.0,\"13\":680},\"44\":{\"0\":1,\"1\":13.05,\"2\":1.77,\"3\":2.1,\"4\":17.0,\"5\":107,\"6\":3.0,\"7\":3.0,\"8\":0.28,\"9\":2.03,\"10\":5.04,\"11\":0.88,\"12\":3.35,\"13\":885},\"45\":{\"0\":1,\"1\":14.21,\"2\":4.04,\"3\":2.44,\"4\":18.9,\"5\":111,\"6\":2.85,\"7\":2.65,\"8\":0.3,\"9\":1.25,\"10\":5.24,\"11\":0.87,\"12\":3.33,\"13\":1080},\"46\":{\"0\":1,\"1\":14.38,\"2\":3.59,\"3\":2.28,\"4\":16.0,\"5\":102,\"6\":3.25,\"7\":3.17,\"8\":0.27,\"9\":2.19,\"10\":4.9,\"11\":1.04,\"12\":3.44,\"13\":1065},\"47\":{\"0\":1,\"1\":13.9,\"2\":1.68,\"3\":2.12,\"4\":16.0,\"5\":101,\"6\":3.1,\"7\":3.39,\"8\":0.21,\"9\":2.14,\"10\":6.1,\"11\":0.91,\"12\":3.33,\"13\":985},\"48\":{\"0\":1,\"1\":14.1,\"2\":2.02,\"3\":2.4,\"4\":18.8,\"5\":103,\"6\":2.75,\"7\":2.92,\"8\":0.32,\"9\":2.38,\"10\":6.2,\"11\":1.07,\"12\":2.75,\"13\":1060},\"49\":{\"0\":1,\"1\":13.94,\"2\":1.73,\"3\":2.27,\"4\":17.4,\"5\":108,\"6\":2.88,\"7\":3.54,\"8\":0.32,\"9\":2.08,\"10\":8.9,\"11\":1.12,\"12\":3.1,\"13\":1260},\"50\":{\"0\":1,\"1\":13.05,\"2\":1.73,\"3\":2.04,\"4\":12.4,\"5\":92,\"6\":2.72,\"7\":3.27,\"8\":0.17,\"9\":2.91,\"10\":7.2,\"11\":1.12,\"12\":2.91,\"13\":1150},\"51\":{\"0\":1,\"1\":13.83,\"2\":1.65,\"3\":2.6,\"4\":17.2,\"5\":94,\"6\":2.45,\"7\":2.99,\"8\":0.22,\"9\":2.29,\"10\":5.6,\"11\":1.24,\"12\":3.37,\"13\":1265},\"52\":{\"0\":1,\"1\":13.82,\"2\":1.75,\"3\":2.42,\"4\":14.0,\"5\":111,\"6\":3.88,\"7\":3.74,\"8\":0.32,\"9\":1.87,\"10\":7.05,\"11\":1.01,\"12\":3.26,\"13\":1190},\"53\":{\"0\":1,\"1\":13.77,\"2\":1.9,\"3\":2.68,\"4\":17.1,\"5\":115,\"6\":3.0,\"7\":2.79,\"8\":0.39,\"9\":1.68,\"10\":6.3,\"11\":1.13,\"12\":2.93,\"13\":1375},\"54\":{\"0\":1,\"1\":13.74,\"2\":1.67,\"3\":2.25,\"4\":16.4,\"5\":118,\"6\":2.6,\"7\":2.9,\"8\":0.21,\"9\":1.62,\"10\":5.85,\"11\":0.92,\"12\":3.2,\"13\":1060},\"55\":{\"0\":1,\"1\":13.56,\"2\":1.73,\"3\":2.46,\"4\":20.5,\"5\":116,\"6\":2.96,\"7\":2.78,\"8\":0.2,\"9\":2.45,\"10\":6.25,\"11\":0.98,\"12\":3.03,\"13\":1120},\"56\":{\"0\":1,\"1\":14.22,\"2\":1.7,\"3\":2.3,\"4\":16.3,\"5\":118,\"6\":3.2,\"7\":3.0,\"8\":0.26,\"9\":2.03,\"10\":6.38,\"11\":0.94,\"12\":3.31,\"13\":970},\"57\":{\"0\":1,\"1\":13.29,\"2\":1.97,\"3\":2.68,\"4\":16.8,\"5\":102,\"6\":3.0,\"7\":3.23,\"8\":0.31,\"9\":1.66,\"10\":6.0,\"11\":1.07,\"12\":2.84,\"13\":1270},\"58\":{\"0\":1,\"1\":13.72,\"2\":1.43,\"3\":2.5,\"4\":16.7,\"5\":108,\"6\":3.4,\"7\":3.67,\"8\":0.19,\"9\":2.04,\"10\":6.8,\"11\":0.89,\"12\":2.87,\"13\":1285},\"59\":{\"0\":2,\"1\":12.37,\"2\":0.94,\"3\":1.36,\"4\":10.6,\"5\":88,\"6\":1.98,\"7\":0.57,\"8\":0.28,\"9\":0.42,\"10\":1.95,\"11\":1.05,\"12\":1.82,\"13\":520},\"60\":{\"0\":2,\"1\":12.33,\"2\":1.1,\"3\":2.28,\"4\":16.0,\"5\":101,\"6\":2.05,\"7\":1.09,\"8\":0.63,\"9\":0.41,\"10\":3.27,\"11\":1.25,\"12\":1.67,\"13\":680},\"61\":{\"0\":2,\"1\":12.64,\"2\":1.36,\"3\":2.02,\"4\":16.8,\"5\":100,\"6\":2.02,\"7\":1.41,\"8\":0.53,\"9\":0.62,\"10\":5.75,\"11\":0.98,\"12\":1.59,\"13\":450},\"62\":{\"0\":2,\"1\":13.67,\"2\":1.25,\"3\":1.92,\"4\":18.0,\"5\":94,\"6\":2.1,\"7\":1.79,\"8\":0.32,\"9\":0.73,\"10\":3.8,\"11\":1.23,\"12\":2.46,\"13\":630},\"63\":{\"0\":2,\"1\":12.37,\"2\":1.13,\"3\":2.16,\"4\":19.0,\"5\":87,\"6\":3.5,\"7\":3.1,\"8\":0.19,\"9\":1.87,\"10\":4.45,\"11\":1.22,\"12\":2.87,\"13\":420},\"64\":{\"0\":2,\"1\":12.17,\"2\":1.45,\"3\":2.53,\"4\":19.0,\"5\":104,\"6\":1.89,\"7\":1.75,\"8\":0.45,\"9\":1.03,\"10\":2.95,\"11\":1.45,\"12\":2.23,\"13\":355},\"65\":{\"0\":2,\"1\":12.37,\"2\":1.21,\"3\":2.56,\"4\":18.1,\"5\":98,\"6\":2.42,\"7\":2.65,\"8\":0.37,\"9\":2.08,\"10\":4.6,\"11\":1.19,\"12\":2.3,\"13\":678},\"66\":{\"0\":2,\"1\":13.11,\"2\":1.01,\"3\":1.7,\"4\":15.0,\"5\":78,\"6\":2.98,\"7\":3.18,\"8\":0.26,\"9\":2.28,\"10\":5.3,\"11\":1.12,\"12\":3.18,\"13\":502},\"67\":{\"0\":2,\"1\":12.37,\"2\":1.17,\"3\":1.92,\"4\":19.6,\"5\":78,\"6\":2.11,\"7\":2.0,\"8\":0.27,\"9\":1.04,\"10\":4.68,\"11\":1.12,\"12\":3.48,\"13\":510},\"68\":{\"0\":2,\"1\":13.34,\"2\":0.94,\"3\":2.36,\"4\":17.0,\"5\":110,\"6\":2.53,\"7\":1.3,\"8\":0.55,\"9\":0.42,\"10\":3.17,\"11\":1.02,\"12\":1.93,\"13\":750},\"69\":{\"0\":2,\"1\":12.21,\"2\":1.19,\"3\":1.75,\"4\":16.8,\"5\":151,\"6\":1.85,\"7\":1.28,\"8\":0.14,\"9\":2.5,\"10\":2.85,\"11\":1.28,\"12\":3.07,\"13\":718},\"70\":{\"0\":2,\"1\":12.29,\"2\":1.61,\"3\":2.21,\"4\":20.4,\"5\":103,\"6\":1.1,\"7\":1.02,\"8\":0.37,\"9\":1.46,\"10\":3.05,\"11\":0.906,\"12\":1.82,\"13\":870},\"71\":{\"0\":2,\"1\":13.86,\"2\":1.51,\"3\":2.67,\"4\":25.0,\"5\":86,\"6\":2.95,\"7\":2.86,\"8\":0.21,\"9\":1.87,\"10\":3.38,\"11\":1.36,\"12\":3.16,\"13\":410},\"72\":{\"0\":2,\"1\":13.49,\"2\":1.66,\"3\":2.24,\"4\":24.0,\"5\":87,\"6\":1.88,\"7\":1.84,\"8\":0.27,\"9\":1.03,\"10\":3.74,\"11\":0.98,\"12\":2.78,\"13\":472},\"73\":{\"0\":2,\"1\":12.99,\"2\":1.67,\"3\":2.6,\"4\":30.0,\"5\":139,\"6\":3.3,\"7\":2.89,\"8\":0.21,\"9\":1.96,\"10\":3.35,\"11\":1.31,\"12\":3.5,\"13\":985},\"74\":{\"0\":2,\"1\":11.96,\"2\":1.09,\"3\":2.3,\"4\":21.0,\"5\":101,\"6\":3.38,\"7\":2.14,\"8\":0.13,\"9\":1.65,\"10\":3.21,\"11\":0.99,\"12\":3.13,\"13\":886},\"75\":{\"0\":2,\"1\":11.66,\"2\":1.88,\"3\":1.92,\"4\":16.0,\"5\":97,\"6\":1.61,\"7\":1.57,\"8\":0.34,\"9\":1.15,\"10\":3.8,\"11\":1.23,\"12\":2.14,\"13\":428},\"76\":{\"0\":2,\"1\":13.03,\"2\":0.9,\"3\":1.71,\"4\":16.0,\"5\":86,\"6\":1.95,\"7\":2.03,\"8\":0.24,\"9\":1.46,\"10\":4.6,\"11\":1.19,\"12\":2.48,\"13\":392},\"77\":{\"0\":2,\"1\":11.84,\"2\":2.89,\"3\":2.23,\"4\":18.0,\"5\":112,\"6\":1.72,\"7\":1.32,\"8\":0.43,\"9\":0.95,\"10\":2.65,\"11\":0.96,\"12\":2.52,\"13\":500},\"78\":{\"0\":2,\"1\":12.33,\"2\":0.99,\"3\":1.95,\"4\":14.8,\"5\":136,\"6\":1.9,\"7\":1.85,\"8\":0.35,\"9\":2.76,\"10\":3.4,\"11\":1.06,\"12\":2.31,\"13\":750},\"79\":{\"0\":2,\"1\":12.7,\"2\":3.87,\"3\":2.4,\"4\":23.0,\"5\":101,\"6\":2.83,\"7\":2.55,\"8\":0.43,\"9\":1.95,\"10\":2.57,\"11\":1.19,\"12\":3.13,\"13\":463},\"80\":{\"0\":2,\"1\":12.0,\"2\":0.92,\"3\":2.0,\"4\":19.0,\"5\":86,\"6\":2.42,\"7\":2.26,\"8\":0.3,\"9\":1.43,\"10\":2.5,\"11\":1.38,\"12\":3.12,\"13\":278},\"81\":{\"0\":2,\"1\":12.72,\"2\":1.81,\"3\":2.2,\"4\":18.8,\"5\":86,\"6\":2.2,\"7\":2.53,\"8\":0.26,\"9\":1.77,\"10\":3.9,\"11\":1.16,\"12\":3.14,\"13\":714},\"82\":{\"0\":2,\"1\":12.08,\"2\":1.13,\"3\":2.51,\"4\":24.0,\"5\":78,\"6\":2.0,\"7\":1.58,\"8\":0.4,\"9\":1.4,\"10\":2.2,\"11\":1.31,\"12\":2.72,\"13\":630},\"83\":{\"0\":2,\"1\":13.05,\"2\":3.86,\"3\":2.32,\"4\":22.5,\"5\":85,\"6\":1.65,\"7\":1.59,\"8\":0.61,\"9\":1.62,\"10\":4.8,\"11\":0.84,\"12\":2.01,\"13\":515},\"84\":{\"0\":2,\"1\":11.84,\"2\":0.89,\"3\":2.58,\"4\":18.0,\"5\":94,\"6\":2.2,\"7\":2.21,\"8\":0.22,\"9\":2.35,\"10\":3.05,\"11\":0.79,\"12\":3.08,\"13\":520},\"85\":{\"0\":2,\"1\":12.67,\"2\":0.98,\"3\":2.24,\"4\":18.0,\"5\":99,\"6\":2.2,\"7\":1.94,\"8\":0.3,\"9\":1.46,\"10\":2.62,\"11\":1.23,\"12\":3.16,\"13\":450},\"86\":{\"0\":2,\"1\":12.16,\"2\":1.61,\"3\":2.31,\"4\":22.8,\"5\":90,\"6\":1.78,\"7\":1.69,\"8\":0.43,\"9\":1.56,\"10\":2.45,\"11\":1.33,\"12\":2.26,\"13\":495},\"87\":{\"0\":2,\"1\":11.65,\"2\":1.67,\"3\":2.62,\"4\":26.0,\"5\":88,\"6\":1.92,\"7\":1.61,\"8\":0.4,\"9\":1.34,\"10\":2.6,\"11\":1.36,\"12\":3.21,\"13\":562},\"88\":{\"0\":2,\"1\":11.64,\"2\":2.06,\"3\":2.46,\"4\":21.6,\"5\":84,\"6\":1.95,\"7\":1.69,\"8\":0.48,\"9\":1.35,\"10\":2.8,\"11\":1.0,\"12\":2.75,\"13\":680},\"89\":{\"0\":2,\"1\":12.08,\"2\":1.33,\"3\":2.3,\"4\":23.6,\"5\":70,\"6\":2.2,\"7\":1.59,\"8\":0.42,\"9\":1.38,\"10\":1.74,\"11\":1.07,\"12\":3.21,\"13\":625},\"90\":{\"0\":2,\"1\":12.08,\"2\":1.83,\"3\":2.32,\"4\":18.5,\"5\":81,\"6\":1.6,\"7\":1.5,\"8\":0.52,\"9\":1.64,\"10\":2.4,\"11\":1.08,\"12\":2.27,\"13\":480},\"91\":{\"0\":2,\"1\":12.0,\"2\":1.51,\"3\":2.42,\"4\":22.0,\"5\":86,\"6\":1.45,\"7\":1.25,\"8\":0.5,\"9\":1.63,\"10\":3.6,\"11\":1.05,\"12\":2.65,\"13\":450},\"92\":{\"0\":2,\"1\":12.69,\"2\":1.53,\"3\":2.26,\"4\":20.7,\"5\":80,\"6\":1.38,\"7\":1.46,\"8\":0.58,\"9\":1.62,\"10\":3.05,\"11\":0.96,\"12\":2.06,\"13\":495},\"93\":{\"0\":2,\"1\":12.29,\"2\":2.83,\"3\":2.22,\"4\":18.0,\"5\":88,\"6\":2.45,\"7\":2.25,\"8\":0.25,\"9\":1.99,\"10\":2.15,\"11\":1.15,\"12\":3.3,\"13\":290},\"94\":{\"0\":2,\"1\":11.62,\"2\":1.99,\"3\":2.28,\"4\":18.0,\"5\":98,\"6\":3.02,\"7\":2.26,\"8\":0.17,\"9\":1.35,\"10\":3.25,\"11\":1.16,\"12\":2.96,\"13\":345},\"95\":{\"0\":2,\"1\":12.47,\"2\":1.52,\"3\":2.2,\"4\":19.0,\"5\":162,\"6\":2.5,\"7\":2.27,\"8\":0.32,\"9\":3.28,\"10\":2.6,\"11\":1.16,\"12\":2.63,\"13\":937},\"96\":{\"0\":2,\"1\":11.81,\"2\":2.12,\"3\":2.74,\"4\":21.5,\"5\":134,\"6\":1.6,\"7\":0.99,\"8\":0.14,\"9\":1.56,\"10\":2.5,\"11\":0.95,\"12\":2.26,\"13\":625},\"97\":{\"0\":2,\"1\":12.29,\"2\":1.41,\"3\":1.98,\"4\":16.0,\"5\":85,\"6\":2.55,\"7\":2.5,\"8\":0.29,\"9\":1.77,\"10\":2.9,\"11\":1.23,\"12\":2.74,\"13\":428},\"98\":{\"0\":2,\"1\":12.37,\"2\":1.07,\"3\":2.1,\"4\":18.5,\"5\":88,\"6\":3.52,\"7\":3.75,\"8\":0.24,\"9\":1.95,\"10\":4.5,\"11\":1.04,\"12\":2.77,\"13\":660},\"99\":{\"0\":2,\"1\":12.29,\"2\":3.17,\"3\":2.21,\"4\":18.0,\"5\":88,\"6\":2.85,\"7\":2.99,\"8\":0.45,\"9\":2.81,\"10\":2.3,\"11\":1.42,\"12\":2.83,\"13\":406},\"100\":{\"0\":2,\"1\":12.08,\"2\":2.08,\"3\":1.7,\"4\":17.5,\"5\":97,\"6\":2.23,\"7\":2.17,\"8\":0.26,\"9\":1.4,\"10\":3.3,\"11\":1.27,\"12\":2.96,\"13\":710},\"101\":{\"0\":2,\"1\":12.6,\"2\":1.34,\"3\":1.9,\"4\":18.5,\"5\":88,\"6\":1.45,\"7\":1.36,\"8\":0.29,\"9\":1.35,\"10\":2.45,\"11\":1.04,\"12\":2.77,\"13\":562},\"102\":{\"0\":2,\"1\":12.34,\"2\":2.45,\"3\":2.46,\"4\":21.0,\"5\":98,\"6\":2.56,\"7\":2.11,\"8\":0.34,\"9\":1.31,\"10\":2.8,\"11\":0.8,\"12\":3.38,\"13\":438},\"103\":{\"0\":2,\"1\":11.82,\"2\":1.72,\"3\":1.88,\"4\":19.5,\"5\":86,\"6\":2.5,\"7\":1.64,\"8\":0.37,\"9\":1.42,\"10\":2.06,\"11\":0.94,\"12\":2.44,\"13\":415},\"104\":{\"0\":2,\"1\":12.51,\"2\":1.73,\"3\":1.98,\"4\":20.5,\"5\":85,\"6\":2.2,\"7\":1.92,\"8\":0.32,\"9\":1.48,\"10\":2.94,\"11\":1.04,\"12\":3.57,\"13\":672},\"105\":{\"0\":2,\"1\":12.42,\"2\":2.55,\"3\":2.27,\"4\":22.0,\"5\":90,\"6\":1.68,\"7\":1.84,\"8\":0.66,\"9\":1.42,\"10\":2.7,\"11\":0.86,\"12\":3.3,\"13\":315},\"106\":{\"0\":2,\"1\":12.25,\"2\":1.73,\"3\":2.12,\"4\":19.0,\"5\":80,\"6\":1.65,\"7\":2.03,\"8\":0.37,\"9\":1.63,\"10\":3.4,\"11\":1.0,\"12\":3.17,\"13\":510},\"107\":{\"0\":2,\"1\":12.72,\"2\":1.75,\"3\":2.28,\"4\":22.5,\"5\":84,\"6\":1.38,\"7\":1.76,\"8\":0.48,\"9\":1.63,\"10\":3.3,\"11\":0.88,\"12\":2.42,\"13\":488},\"108\":{\"0\":2,\"1\":12.22,\"2\":1.29,\"3\":1.94,\"4\":19.0,\"5\":92,\"6\":2.36,\"7\":2.04,\"8\":0.39,\"9\":2.08,\"10\":2.7,\"11\":0.86,\"12\":3.02,\"13\":312},\"109\":{\"0\":2,\"1\":11.61,\"2\":1.35,\"3\":2.7,\"4\":20.0,\"5\":94,\"6\":2.74,\"7\":2.92,\"8\":0.29,\"9\":2.49,\"10\":2.65,\"11\":0.96,\"12\":3.26,\"13\":680},\"110\":{\"0\":2,\"1\":11.46,\"2\":3.74,\"3\":1.82,\"4\":19.5,\"5\":107,\"6\":3.18,\"7\":2.58,\"8\":0.24,\"9\":3.58,\"10\":2.9,\"11\":0.75,\"12\":2.81,\"13\":562},\"111\":{\"0\":2,\"1\":12.52,\"2\":2.43,\"3\":2.17,\"4\":21.0,\"5\":88,\"6\":2.55,\"7\":2.27,\"8\":0.26,\"9\":1.22,\"10\":2.0,\"11\":0.9,\"12\":2.78,\"13\":325},\"112\":{\"0\":2,\"1\":11.76,\"2\":2.68,\"3\":2.92,\"4\":20.0,\"5\":103,\"6\":1.75,\"7\":2.03,\"8\":0.6,\"9\":1.05,\"10\":3.8,\"11\":1.23,\"12\":2.5,\"13\":607},\"113\":{\"0\":2,\"1\":11.41,\"2\":0.74,\"3\":2.5,\"4\":21.0,\"5\":88,\"6\":2.48,\"7\":2.01,\"8\":0.42,\"9\":1.44,\"10\":3.08,\"11\":1.1,\"12\":2.31,\"13\":434},\"114\":{\"0\":2,\"1\":12.08,\"2\":1.39,\"3\":2.5,\"4\":22.5,\"5\":84,\"6\":2.56,\"7\":2.29,\"8\":0.43,\"9\":1.04,\"10\":2.9,\"11\":0.93,\"12\":3.19,\"13\":385},\"115\":{\"0\":2,\"1\":11.03,\"2\":1.51,\"3\":2.2,\"4\":21.5,\"5\":85,\"6\":2.46,\"7\":2.17,\"8\":0.52,\"9\":2.01,\"10\":1.9,\"11\":1.71,\"12\":2.87,\"13\":407},\"116\":{\"0\":2,\"1\":11.82,\"2\":1.47,\"3\":1.99,\"4\":20.8,\"5\":86,\"6\":1.98,\"7\":1.6,\"8\":0.3,\"9\":1.53,\"10\":1.95,\"11\":0.95,\"12\":3.33,\"13\":495},\"117\":{\"0\":2,\"1\":12.42,\"2\":1.61,\"3\":2.19,\"4\":22.5,\"5\":108,\"6\":2.0,\"7\":2.09,\"8\":0.34,\"9\":1.61,\"10\":2.06,\"11\":1.06,\"12\":2.96,\"13\":345},\"118\":{\"0\":2,\"1\":12.77,\"2\":3.43,\"3\":1.98,\"4\":16.0,\"5\":80,\"6\":1.63,\"7\":1.25,\"8\":0.43,\"9\":0.83,\"10\":3.4,\"11\":0.7,\"12\":2.12,\"13\":372},\"119\":{\"0\":2,\"1\":12.0,\"2\":3.43,\"3\":2.0,\"4\":19.0,\"5\":87,\"6\":2.0,\"7\":1.64,\"8\":0.37,\"9\":1.87,\"10\":1.28,\"11\":0.93,\"12\":3.05,\"13\":564},\"120\":{\"0\":2,\"1\":11.45,\"2\":2.4,\"3\":2.42,\"4\":20.0,\"5\":96,\"6\":2.9,\"7\":2.79,\"8\":0.32,\"9\":1.83,\"10\":3.25,\"11\":0.8,\"12\":3.39,\"13\":625},\"121\":{\"0\":2,\"1\":11.56,\"2\":2.05,\"3\":3.23,\"4\":28.5,\"5\":119,\"6\":3.18,\"7\":5.08,\"8\":0.47,\"9\":1.87,\"10\":6.0,\"11\":0.93,\"12\":3.69,\"13\":465},\"122\":{\"0\":2,\"1\":12.42,\"2\":4.43,\"3\":2.73,\"4\":26.5,\"5\":102,\"6\":2.2,\"7\":2.13,\"8\":0.43,\"9\":1.71,\"10\":2.08,\"11\":0.92,\"12\":3.12,\"13\":365},\"123\":{\"0\":2,\"1\":13.05,\"2\":5.8,\"3\":2.13,\"4\":21.5,\"5\":86,\"6\":2.62,\"7\":2.65,\"8\":0.3,\"9\":2.01,\"10\":2.6,\"11\":0.73,\"12\":3.1,\"13\":380},\"124\":{\"0\":2,\"1\":11.87,\"2\":4.31,\"3\":2.39,\"4\":21.0,\"5\":82,\"6\":2.86,\"7\":3.03,\"8\":0.21,\"9\":2.91,\"10\":2.8,\"11\":0.75,\"12\":3.64,\"13\":380},\"125\":{\"0\":2,\"1\":12.07,\"2\":2.16,\"3\":2.17,\"4\":21.0,\"5\":85,\"6\":2.6,\"7\":2.65,\"8\":0.37,\"9\":1.35,\"10\":2.76,\"11\":0.86,\"12\":3.28,\"13\":378},\"126\":{\"0\":2,\"1\":12.43,\"2\":1.53,\"3\":2.29,\"4\":21.5,\"5\":86,\"6\":2.74,\"7\":3.15,\"8\":0.39,\"9\":1.77,\"10\":3.94,\"11\":0.69,\"12\":2.84,\"13\":352},\"127\":{\"0\":2,\"1\":11.79,\"2\":2.13,\"3\":2.78,\"4\":28.5,\"5\":92,\"6\":2.13,\"7\":2.24,\"8\":0.58,\"9\":1.76,\"10\":3.0,\"11\":0.97,\"12\":2.44,\"13\":466},\"128\":{\"0\":2,\"1\":12.37,\"2\":1.63,\"3\":2.3,\"4\":24.5,\"5\":88,\"6\":2.22,\"7\":2.45,\"8\":0.4,\"9\":1.9,\"10\":2.12,\"11\":0.89,\"12\":2.78,\"13\":342},\"129\":{\"0\":2,\"1\":12.04,\"2\":4.3,\"3\":2.38,\"4\":22.0,\"5\":80,\"6\":2.1,\"7\":1.75,\"8\":0.42,\"9\":1.35,\"10\":2.6,\"11\":0.79,\"12\":2.57,\"13\":580},\"130\":{\"0\":3,\"1\":12.86,\"2\":1.35,\"3\":2.32,\"4\":18.0,\"5\":122,\"6\":1.51,\"7\":1.25,\"8\":0.21,\"9\":0.94,\"10\":4.1,\"11\":0.76,\"12\":1.29,\"13\":630},\"131\":{\"0\":3,\"1\":12.88,\"2\":2.99,\"3\":2.4,\"4\":20.0,\"5\":104,\"6\":1.3,\"7\":1.22,\"8\":0.24,\"9\":0.83,\"10\":5.4,\"11\":0.74,\"12\":1.42,\"13\":530},\"132\":{\"0\":3,\"1\":12.81,\"2\":2.31,\"3\":2.4,\"4\":24.0,\"5\":98,\"6\":1.15,\"7\":1.09,\"8\":0.27,\"9\":0.83,\"10\":5.7,\"11\":0.66,\"12\":1.36,\"13\":560},\"133\":{\"0\":3,\"1\":12.7,\"2\":3.55,\"3\":2.36,\"4\":21.5,\"5\":106,\"6\":1.7,\"7\":1.2,\"8\":0.17,\"9\":0.84,\"10\":5.0,\"11\":0.78,\"12\":1.29,\"13\":600},\"134\":{\"0\":3,\"1\":12.51,\"2\":1.24,\"3\":2.25,\"4\":17.5,\"5\":85,\"6\":2.0,\"7\":0.58,\"8\":0.6,\"9\":1.25,\"10\":5.45,\"11\":0.75,\"12\":1.51,\"13\":650},\"135\":{\"0\":3,\"1\":12.6,\"2\":2.46,\"3\":2.2,\"4\":18.5,\"5\":94,\"6\":1.62,\"7\":0.66,\"8\":0.63,\"9\":0.94,\"10\":7.1,\"11\":0.73,\"12\":1.58,\"13\":695},\"136\":{\"0\":3,\"1\":12.25,\"2\":4.72,\"3\":2.54,\"4\":21.0,\"5\":89,\"6\":1.38,\"7\":0.47,\"8\":0.53,\"9\":0.8,\"10\":3.85,\"11\":0.75,\"12\":1.27,\"13\":720},\"137\":{\"0\":3,\"1\":12.53,\"2\":5.51,\"3\":2.64,\"4\":25.0,\"5\":96,\"6\":1.79,\"7\":0.6,\"8\":0.63,\"9\":1.1,\"10\":5.0,\"11\":0.82,\"12\":1.69,\"13\":515},\"138\":{\"0\":3,\"1\":13.49,\"2\":3.59,\"3\":2.19,\"4\":19.5,\"5\":88,\"6\":1.62,\"7\":0.48,\"8\":0.58,\"9\":0.88,\"10\":5.7,\"11\":0.81,\"12\":1.82,\"13\":580},\"139\":{\"0\":3,\"1\":12.84,\"2\":2.96,\"3\":2.61,\"4\":24.0,\"5\":101,\"6\":2.32,\"7\":0.6,\"8\":0.53,\"9\":0.81,\"10\":4.92,\"11\":0.89,\"12\":2.15,\"13\":590},\"140\":{\"0\":3,\"1\":12.93,\"2\":2.81,\"3\":2.7,\"4\":21.0,\"5\":96,\"6\":1.54,\"7\":0.5,\"8\":0.53,\"9\":0.75,\"10\":4.6,\"11\":0.77,\"12\":2.31,\"13\":600},\"141\":{\"0\":3,\"1\":13.36,\"2\":2.56,\"3\":2.35,\"4\":20.0,\"5\":89,\"6\":1.4,\"7\":0.5,\"8\":0.37,\"9\":0.64,\"10\":5.6,\"11\":0.7,\"12\":2.47,\"13\":780},\"142\":{\"0\":3,\"1\":13.52,\"2\":3.17,\"3\":2.72,\"4\":23.5,\"5\":97,\"6\":1.55,\"7\":0.52,\"8\":0.5,\"9\":0.55,\"10\":4.35,\"11\":0.89,\"12\":2.06,\"13\":520},\"143\":{\"0\":3,\"1\":13.62,\"2\":4.95,\"3\":2.35,\"4\":20.0,\"5\":92,\"6\":2.0,\"7\":0.8,\"8\":0.47,\"9\":1.02,\"10\":4.4,\"11\":0.91,\"12\":2.05,\"13\":550},\"144\":{\"0\":3,\"1\":12.25,\"2\":3.88,\"3\":2.2,\"4\":18.5,\"5\":112,\"6\":1.38,\"7\":0.78,\"8\":0.29,\"9\":1.14,\"10\":8.21,\"11\":0.65,\"12\":2.0,\"13\":855},\"145\":{\"0\":3,\"1\":13.16,\"2\":3.57,\"3\":2.15,\"4\":21.0,\"5\":102,\"6\":1.5,\"7\":0.55,\"8\":0.43,\"9\":1.3,\"10\":4.0,\"11\":0.6,\"12\":1.68,\"13\":830},\"146\":{\"0\":3,\"1\":13.88,\"2\":5.04,\"3\":2.23,\"4\":20.0,\"5\":80,\"6\":0.98,\"7\":0.34,\"8\":0.4,\"9\":0.68,\"10\":4.9,\"11\":0.58,\"12\":1.33,\"13\":415},\"147\":{\"0\":3,\"1\":12.87,\"2\":4.61,\"3\":2.48,\"4\":21.5,\"5\":86,\"6\":1.7,\"7\":0.65,\"8\":0.47,\"9\":0.86,\"10\":7.65,\"11\":0.54,\"12\":1.86,\"13\":625},\"148\":{\"0\":3,\"1\":13.32,\"2\":3.24,\"3\":2.38,\"4\":21.5,\"5\":92,\"6\":1.93,\"7\":0.76,\"8\":0.45,\"9\":1.25,\"10\":8.42,\"11\":0.55,\"12\":1.62,\"13\":650},\"149\":{\"0\":3,\"1\":13.08,\"2\":3.9,\"3\":2.36,\"4\":21.5,\"5\":113,\"6\":1.41,\"7\":1.39,\"8\":0.34,\"9\":1.14,\"10\":9.4,\"11\":0.57,\"12\":1.33,\"13\":550},\"150\":{\"0\":3,\"1\":13.5,\"2\":3.12,\"3\":2.62,\"4\":24.0,\"5\":123,\"6\":1.4,\"7\":1.57,\"8\":0.22,\"9\":1.25,\"10\":8.6,\"11\":0.59,\"12\":1.3,\"13\":500},\"151\":{\"0\":3,\"1\":12.79,\"2\":2.67,\"3\":2.48,\"4\":22.0,\"5\":112,\"6\":1.48,\"7\":1.36,\"8\":0.24,\"9\":1.26,\"10\":10.8,\"11\":0.48,\"12\":1.47,\"13\":480},\"152\":{\"0\":3,\"1\":13.11,\"2\":1.9,\"3\":2.75,\"4\":25.5,\"5\":116,\"6\":2.2,\"7\":1.28,\"8\":0.26,\"9\":1.56,\"10\":7.1,\"11\":0.61,\"12\":1.33,\"13\":425},\"153\":{\"0\":3,\"1\":13.23,\"2\":3.3,\"3\":2.28,\"4\":18.5,\"5\":98,\"6\":1.8,\"7\":0.83,\"8\":0.61,\"9\":1.87,\"10\":10.52,\"11\":0.56,\"12\":1.51,\"13\":675},\"154\":{\"0\":3,\"1\":12.58,\"2\":1.29,\"3\":2.1,\"4\":20.0,\"5\":103,\"6\":1.48,\"7\":0.58,\"8\":0.53,\"9\":1.4,\"10\":7.6,\"11\":0.58,\"12\":1.55,\"13\":640},\"155\":{\"0\":3,\"1\":13.17,\"2\":5.19,\"3\":2.32,\"4\":22.0,\"5\":93,\"6\":1.74,\"7\":0.63,\"8\":0.61,\"9\":1.55,\"10\":7.9,\"11\":0.6,\"12\":1.48,\"13\":725},\"156\":{\"0\":3,\"1\":13.84,\"2\":4.12,\"3\":2.38,\"4\":19.5,\"5\":89,\"6\":1.8,\"7\":0.83,\"8\":0.48,\"9\":1.56,\"10\":9.01,\"11\":0.57,\"12\":1.64,\"13\":480},\"157\":{\"0\":3,\"1\":12.45,\"2\":3.03,\"3\":2.64,\"4\":27.0,\"5\":97,\"6\":1.9,\"7\":0.58,\"8\":0.63,\"9\":1.14,\"10\":7.5,\"11\":0.67,\"12\":1.73,\"13\":880},\"158\":{\"0\":3,\"1\":14.34,\"2\":1.68,\"3\":2.7,\"4\":25.0,\"5\":98,\"6\":2.8,\"7\":1.31,\"8\":0.53,\"9\":2.7,\"10\":13.0,\"11\":0.57,\"12\":1.96,\"13\":660},\"159\":{\"0\":3,\"1\":13.48,\"2\":1.67,\"3\":2.64,\"4\":22.5,\"5\":89,\"6\":2.6,\"7\":1.1,\"8\":0.52,\"9\":2.29,\"10\":11.75,\"11\":0.57,\"12\":1.78,\"13\":620},\"160\":{\"0\":3,\"1\":12.36,\"2\":3.83,\"3\":2.38,\"4\":21.0,\"5\":88,\"6\":2.3,\"7\":0.92,\"8\":0.5,\"9\":1.04,\"10\":7.65,\"11\":0.56,\"12\":1.58,\"13\":520},\"161\":{\"0\":3,\"1\":13.69,\"2\":3.26,\"3\":2.54,\"4\":20.0,\"5\":107,\"6\":1.83,\"7\":0.56,\"8\":0.5,\"9\":0.8,\"10\":5.88,\"11\":0.96,\"12\":1.82,\"13\":680},\"162\":{\"0\":3,\"1\":12.85,\"2\":3.27,\"3\":2.58,\"4\":22.0,\"5\":106,\"6\":1.65,\"7\":0.6,\"8\":0.6,\"9\":0.96,\"10\":5.58,\"11\":0.87,\"12\":2.11,\"13\":570},\"163\":{\"0\":3,\"1\":12.96,\"2\":3.45,\"3\":2.35,\"4\":18.5,\"5\":106,\"6\":1.39,\"7\":0.7,\"8\":0.4,\"9\":0.94,\"10\":5.28,\"11\":0.68,\"12\":1.75,\"13\":675},\"164\":{\"0\":3,\"1\":13.78,\"2\":2.76,\"3\":2.3,\"4\":22.0,\"5\":90,\"6\":1.35,\"7\":0.68,\"8\":0.41,\"9\":1.03,\"10\":9.58,\"11\":0.7,\"12\":1.68,\"13\":615},\"165\":{\"0\":3,\"1\":13.73,\"2\":4.36,\"3\":2.26,\"4\":22.5,\"5\":88,\"6\":1.28,\"7\":0.47,\"8\":0.52,\"9\":1.15,\"10\":6.62,\"11\":0.78,\"12\":1.75,\"13\":520},\"166\":{\"0\":3,\"1\":13.45,\"2\":3.7,\"3\":2.6,\"4\":23.0,\"5\":111,\"6\":1.7,\"7\":0.92,\"8\":0.43,\"9\":1.46,\"10\":10.68,\"11\":0.85,\"12\":1.56,\"13\":695},\"167\":{\"0\":3,\"1\":12.82,\"2\":3.37,\"3\":2.3,\"4\":19.5,\"5\":88,\"6\":1.48,\"7\":0.66,\"8\":0.4,\"9\":0.97,\"10\":10.26,\"11\":0.72,\"12\":1.75,\"13\":685},\"168\":{\"0\":3,\"1\":13.58,\"2\":2.58,\"3\":2.69,\"4\":24.5,\"5\":105,\"6\":1.55,\"7\":0.84,\"8\":0.39,\"9\":1.54,\"10\":8.66,\"11\":0.74,\"12\":1.8,\"13\":750},\"169\":{\"0\":3,\"1\":13.4,\"2\":4.6,\"3\":2.86,\"4\":25.0,\"5\":112,\"6\":1.98,\"7\":0.96,\"8\":0.27,\"9\":1.11,\"10\":8.5,\"11\":0.67,\"12\":1.92,\"13\":630},\"170\":{\"0\":3,\"1\":12.2,\"2\":3.03,\"3\":2.32,\"4\":19.0,\"5\":96,\"6\":1.25,\"7\":0.49,\"8\":0.4,\"9\":0.73,\"10\":5.5,\"11\":0.66,\"12\":1.83,\"13\":510},\"171\":{\"0\":3,\"1\":12.77,\"2\":2.39,\"3\":2.28,\"4\":19.5,\"5\":86,\"6\":1.39,\"7\":0.51,\"8\":0.48,\"9\":0.64,\"10\":9.899999,\"11\":0.57,\"12\":1.63,\"13\":470},\"172\":{\"0\":3,\"1\":14.16,\"2\":2.51,\"3\":2.48,\"4\":20.0,\"5\":91,\"6\":1.68,\"7\":0.7,\"8\":0.44,\"9\":1.24,\"10\":9.7,\"11\":0.62,\"12\":1.71,\"13\":660},\"173\":{\"0\":3,\"1\":13.71,\"2\":5.65,\"3\":2.45,\"4\":20.5,\"5\":95,\"6\":1.68,\"7\":0.61,\"8\":0.52,\"9\":1.06,\"10\":7.7,\"11\":0.64,\"12\":1.74,\"13\":740},\"174\":{\"0\":3,\"1\":13.4,\"2\":3.91,\"3\":2.48,\"4\":23.0,\"5\":102,\"6\":1.8,\"7\":0.75,\"8\":0.43,\"9\":1.41,\"10\":7.3,\"11\":0.7,\"12\":1.56,\"13\":750},\"175\":{\"0\":3,\"1\":13.27,\"2\":4.28,\"3\":2.26,\"4\":20.0,\"5\":120,\"6\":1.59,\"7\":0.69,\"8\":0.43,\"9\":1.35,\"10\":10.2,\"11\":0.59,\"12\":1.56,\"13\":835},\"176\":{\"0\":3,\"1\":13.17,\"2\":2.59,\"3\":2.37,\"4\":20.0,\"5\":120,\"6\":1.65,\"7\":0.68,\"8\":0.53,\"9\":1.46,\"10\":9.3,\"11\":0.6,\"12\":1.62,\"13\":840},\"177\":{\"0\":3,\"1\":14.13,\"2\":4.1,\"3\":2.74,\"4\":24.5,\"5\":96,\"6\":2.05,\"7\":0.76,\"8\":0.56,\"9\":1.35,\"10\":9.2,\"11\":0.61,\"12\":1.6,\"13\":560}}'"
      ]
     },
     "execution_count": 57,
     "metadata": {},
     "output_type": "execute_result"
    }
   ],
   "source": [
    "df.to_json(orient=\"index\")"
   ]
  },
  {
   "cell_type": "code",
   "execution_count": 59,
   "id": "fc3c3c4c",
   "metadata": {},
   "outputs": [
    {
     "data": {
      "text/plain": [
       "'{\"emp. name\":{\"0\":\"Atri\"},\"email\":{\"0\":\"atrithaker122@gmail.com\"},\"job_profile\":{\"0\":{\"title1\":\"Team Lead\",\"title2\":\"senior developer\"}}}'"
      ]
     },
     "execution_count": 59,
     "metadata": {},
     "output_type": "execute_result"
    }
   ],
   "source": [
    "df1.to_json()"
   ]
  },
  {
   "cell_type": "code",
   "execution_count": 60,
   "id": "28ab3737",
   "metadata": {},
   "outputs": [
    {
     "data": {
      "text/plain": [
       "'{\"0\":{\"emp. name\":\"Atri\",\"email\":\"atrithaker122@gmail.com\",\"job_profile\":{\"title1\":\"Team Lead\",\"title2\":\"senior developer\"}}}'"
      ]
     },
     "execution_count": 60,
     "metadata": {},
     "output_type": "execute_result"
    }
   ],
   "source": [
    "df1.to_json(orient=\"index\")"
   ]
  },
  {
   "cell_type": "code",
   "execution_count": 61,
   "id": "2837225c",
   "metadata": {},
   "outputs": [
    {
     "data": {
      "text/plain": [
       "'[{\"emp. name\":\"Atri\",\"email\":\"atrithaker122@gmail.com\",\"job_profile\":{\"title1\":\"Team Lead\",\"title2\":\"senior developer\"}}]'"
      ]
     },
     "execution_count": 61,
     "metadata": {},
     "output_type": "execute_result"
    }
   ],
   "source": [
    "df1.to_json(orient=\"records\")"
   ]
  },
  {
   "cell_type": "code",
   "execution_count": 69,
   "id": "71cd13d7",
   "metadata": {},
   "outputs": [],
   "source": [
    "data2='[{\"name\":\"Atri\"},{\"name\":\"Avnil\"}]'"
   ]
  },
  {
   "cell_type": "code",
   "execution_count": 70,
   "id": "313b03e0",
   "metadata": {},
   "outputs": [],
   "source": [
    "df2=pd.read_json(data2)"
   ]
  },
  {
   "cell_type": "code",
   "execution_count": 71,
   "id": "46e5f358",
   "metadata": {},
   "outputs": [
    {
     "data": {
      "text/html": [
       "<div>\n",
       "<style scoped>\n",
       "    .dataframe tbody tr th:only-of-type {\n",
       "        vertical-align: middle;\n",
       "    }\n",
       "\n",
       "    .dataframe tbody tr th {\n",
       "        vertical-align: top;\n",
       "    }\n",
       "\n",
       "    .dataframe thead th {\n",
       "        text-align: right;\n",
       "    }\n",
       "</style>\n",
       "<table border=\"1\" class=\"dataframe\">\n",
       "  <thead>\n",
       "    <tr style=\"text-align: right;\">\n",
       "      <th></th>\n",
       "      <th>name</th>\n",
       "    </tr>\n",
       "  </thead>\n",
       "  <tbody>\n",
       "    <tr>\n",
       "      <th>0</th>\n",
       "      <td>Atri</td>\n",
       "    </tr>\n",
       "    <tr>\n",
       "      <th>1</th>\n",
       "      <td>Avnil</td>\n",
       "    </tr>\n",
       "  </tbody>\n",
       "</table>\n",
       "</div>"
      ],
      "text/plain": [
       "    name\n",
       "0   Atri\n",
       "1  Avnil"
      ]
     },
     "execution_count": 71,
     "metadata": {},
     "output_type": "execute_result"
    }
   ],
   "source": [
    "df2"
   ]
  },
  {
   "cell_type": "code",
   "execution_count": 73,
   "id": "9670c21c",
   "metadata": {},
   "outputs": [
    {
     "ename": "ImportError",
     "evalue": "html5lib not found, please install it",
     "output_type": "error",
     "traceback": [
      "\u001b[1;31m---------------------------------------------------------------------------\u001b[0m",
      "\u001b[1;31mImportError\u001b[0m                               Traceback (most recent call last)",
      "\u001b[1;32m~\\AppData\\Local\\Temp\\ipykernel_22004\\1731336501.py\u001b[0m in \u001b[0;36m<module>\u001b[1;34m\u001b[0m\n\u001b[0;32m      1\u001b[0m \u001b[0murl\u001b[0m\u001b[1;33m=\u001b[0m\u001b[1;34m'https://www.fdic.gov/bank/individual/failed/banklist.html'\u001b[0m\u001b[1;33m\u001b[0m\u001b[1;33m\u001b[0m\u001b[0m\n\u001b[1;32m----> 2\u001b[1;33m \u001b[0mdfs\u001b[0m\u001b[1;33m=\u001b[0m\u001b[0mpd\u001b[0m\u001b[1;33m.\u001b[0m\u001b[0mread_html\u001b[0m\u001b[1;33m(\u001b[0m\u001b[0murl\u001b[0m\u001b[1;33m)\u001b[0m\u001b[1;33m\u001b[0m\u001b[1;33m\u001b[0m\u001b[0m\n\u001b[0m",
      "\u001b[1;32m~\\anaconda3\\lib\\site-packages\\pandas\\util\\_decorators.py\u001b[0m in \u001b[0;36mwrapper\u001b[1;34m(*args, **kwargs)\u001b[0m\n\u001b[0;32m    309\u001b[0m                     \u001b[0mstacklevel\u001b[0m\u001b[1;33m=\u001b[0m\u001b[0mstacklevel\u001b[0m\u001b[1;33m,\u001b[0m\u001b[1;33m\u001b[0m\u001b[1;33m\u001b[0m\u001b[0m\n\u001b[0;32m    310\u001b[0m                 )\n\u001b[1;32m--> 311\u001b[1;33m             \u001b[1;32mreturn\u001b[0m \u001b[0mfunc\u001b[0m\u001b[1;33m(\u001b[0m\u001b[1;33m*\u001b[0m\u001b[0margs\u001b[0m\u001b[1;33m,\u001b[0m \u001b[1;33m**\u001b[0m\u001b[0mkwargs\u001b[0m\u001b[1;33m)\u001b[0m\u001b[1;33m\u001b[0m\u001b[1;33m\u001b[0m\u001b[0m\n\u001b[0m\u001b[0;32m    312\u001b[0m \u001b[1;33m\u001b[0m\u001b[0m\n\u001b[0;32m    313\u001b[0m         \u001b[1;32mreturn\u001b[0m \u001b[0mwrapper\u001b[0m\u001b[1;33m\u001b[0m\u001b[1;33m\u001b[0m\u001b[0m\n",
      "\u001b[1;32m~\\anaconda3\\lib\\site-packages\\pandas\\io\\html.py\u001b[0m in \u001b[0;36mread_html\u001b[1;34m(io, match, flavor, header, index_col, skiprows, attrs, parse_dates, thousands, encoding, decimal, converters, na_values, keep_default_na, displayed_only)\u001b[0m\n\u001b[0;32m   1111\u001b[0m     \u001b[0mio\u001b[0m \u001b[1;33m=\u001b[0m \u001b[0mstringify_path\u001b[0m\u001b[1;33m(\u001b[0m\u001b[0mio\u001b[0m\u001b[1;33m)\u001b[0m\u001b[1;33m\u001b[0m\u001b[1;33m\u001b[0m\u001b[0m\n\u001b[0;32m   1112\u001b[0m \u001b[1;33m\u001b[0m\u001b[0m\n\u001b[1;32m-> 1113\u001b[1;33m     return _parse(\n\u001b[0m\u001b[0;32m   1114\u001b[0m         \u001b[0mflavor\u001b[0m\u001b[1;33m=\u001b[0m\u001b[0mflavor\u001b[0m\u001b[1;33m,\u001b[0m\u001b[1;33m\u001b[0m\u001b[1;33m\u001b[0m\u001b[0m\n\u001b[0;32m   1115\u001b[0m         \u001b[0mio\u001b[0m\u001b[1;33m=\u001b[0m\u001b[0mio\u001b[0m\u001b[1;33m,\u001b[0m\u001b[1;33m\u001b[0m\u001b[1;33m\u001b[0m\u001b[0m\n",
      "\u001b[1;32m~\\anaconda3\\lib\\site-packages\\pandas\\io\\html.py\u001b[0m in \u001b[0;36m_parse\u001b[1;34m(flavor, io, match, attrs, encoding, displayed_only, **kwargs)\u001b[0m\n\u001b[0;32m    913\u001b[0m     \u001b[0mretained\u001b[0m \u001b[1;33m=\u001b[0m \u001b[1;32mNone\u001b[0m\u001b[1;33m\u001b[0m\u001b[1;33m\u001b[0m\u001b[0m\n\u001b[0;32m    914\u001b[0m     \u001b[1;32mfor\u001b[0m \u001b[0mflav\u001b[0m \u001b[1;32min\u001b[0m \u001b[0mflavor\u001b[0m\u001b[1;33m:\u001b[0m\u001b[1;33m\u001b[0m\u001b[1;33m\u001b[0m\u001b[0m\n\u001b[1;32m--> 915\u001b[1;33m         \u001b[0mparser\u001b[0m \u001b[1;33m=\u001b[0m \u001b[0m_parser_dispatch\u001b[0m\u001b[1;33m(\u001b[0m\u001b[0mflav\u001b[0m\u001b[1;33m)\u001b[0m\u001b[1;33m\u001b[0m\u001b[1;33m\u001b[0m\u001b[0m\n\u001b[0m\u001b[0;32m    916\u001b[0m         \u001b[0mp\u001b[0m \u001b[1;33m=\u001b[0m \u001b[0mparser\u001b[0m\u001b[1;33m(\u001b[0m\u001b[0mio\u001b[0m\u001b[1;33m,\u001b[0m \u001b[0mcompiled_match\u001b[0m\u001b[1;33m,\u001b[0m \u001b[0mattrs\u001b[0m\u001b[1;33m,\u001b[0m \u001b[0mencoding\u001b[0m\u001b[1;33m,\u001b[0m \u001b[0mdisplayed_only\u001b[0m\u001b[1;33m)\u001b[0m\u001b[1;33m\u001b[0m\u001b[1;33m\u001b[0m\u001b[0m\n\u001b[0;32m    917\u001b[0m \u001b[1;33m\u001b[0m\u001b[0m\n",
      "\u001b[1;32m~\\anaconda3\\lib\\site-packages\\pandas\\io\\html.py\u001b[0m in \u001b[0;36m_parser_dispatch\u001b[1;34m(flavor)\u001b[0m\n\u001b[0;32m    862\u001b[0m     \u001b[1;32mif\u001b[0m \u001b[0mflavor\u001b[0m \u001b[1;32min\u001b[0m \u001b[1;33m(\u001b[0m\u001b[1;34m\"bs4\"\u001b[0m\u001b[1;33m,\u001b[0m \u001b[1;34m\"html5lib\"\u001b[0m\u001b[1;33m)\u001b[0m\u001b[1;33m:\u001b[0m\u001b[1;33m\u001b[0m\u001b[1;33m\u001b[0m\u001b[0m\n\u001b[0;32m    863\u001b[0m         \u001b[1;32mif\u001b[0m \u001b[1;32mnot\u001b[0m \u001b[0m_HAS_HTML5LIB\u001b[0m\u001b[1;33m:\u001b[0m\u001b[1;33m\u001b[0m\u001b[1;33m\u001b[0m\u001b[0m\n\u001b[1;32m--> 864\u001b[1;33m             \u001b[1;32mraise\u001b[0m \u001b[0mImportError\u001b[0m\u001b[1;33m(\u001b[0m\u001b[1;34m\"html5lib not found, please install it\"\u001b[0m\u001b[1;33m)\u001b[0m\u001b[1;33m\u001b[0m\u001b[1;33m\u001b[0m\u001b[0m\n\u001b[0m\u001b[0;32m    865\u001b[0m         \u001b[1;32mif\u001b[0m \u001b[1;32mnot\u001b[0m \u001b[0m_HAS_BS4\u001b[0m\u001b[1;33m:\u001b[0m\u001b[1;33m\u001b[0m\u001b[1;33m\u001b[0m\u001b[0m\n\u001b[0;32m    866\u001b[0m             \u001b[1;32mraise\u001b[0m \u001b[0mImportError\u001b[0m\u001b[1;33m(\u001b[0m\u001b[1;34m\"BeautifulSoup4 (bs4) not found, please install it\"\u001b[0m\u001b[1;33m)\u001b[0m\u001b[1;33m\u001b[0m\u001b[1;33m\u001b[0m\u001b[0m\n",
      "\u001b[1;31mImportError\u001b[0m: html5lib not found, please install it"
     ]
    }
   ],
   "source": [
    "url='https://www.fdic.gov/bank/individual/failed/banklist.html'\n",
    "dfs=pd.read_html(url)"
   ]
  },
  {
   "cell_type": "code",
   "execution_count": 77,
   "id": "97abb662",
   "metadata": {},
   "outputs": [
    {
     "ename": "ImportError",
     "evalue": "html5lib not found, please install it",
     "output_type": "error",
     "traceback": [
      "\u001b[1;31m---------------------------------------------------------------------------\u001b[0m",
      "\u001b[1;31mImportError\u001b[0m                               Traceback (most recent call last)",
      "\u001b[1;32m~\\AppData\\Local\\Temp\\ipykernel_22004\\3454710527.py\u001b[0m in \u001b[0;36m<module>\u001b[1;34m\u001b[0m\n\u001b[0;32m      4\u001b[0m \u001b[1;32mimport\u001b[0m \u001b[0mhtml5lib\u001b[0m\u001b[1;33m\u001b[0m\u001b[1;33m\u001b[0m\u001b[0m\n\u001b[0;32m      5\u001b[0m \u001b[0murl\u001b[0m\u001b[1;33m=\u001b[0m\u001b[1;34m'atrithakar.github.io'\u001b[0m\u001b[1;33m\u001b[0m\u001b[1;33m\u001b[0m\u001b[0m\n\u001b[1;32m----> 6\u001b[1;33m \u001b[0mdfs\u001b[0m\u001b[1;33m=\u001b[0m\u001b[0mpd\u001b[0m\u001b[1;33m.\u001b[0m\u001b[0mread_html\u001b[0m\u001b[1;33m(\u001b[0m\u001b[0murl\u001b[0m\u001b[1;33m)\u001b[0m\u001b[1;33m\u001b[0m\u001b[1;33m\u001b[0m\u001b[0m\n\u001b[0m",
      "\u001b[1;32m~\\anaconda3\\lib\\site-packages\\pandas\\util\\_decorators.py\u001b[0m in \u001b[0;36mwrapper\u001b[1;34m(*args, **kwargs)\u001b[0m\n\u001b[0;32m    309\u001b[0m                     \u001b[0mstacklevel\u001b[0m\u001b[1;33m=\u001b[0m\u001b[0mstacklevel\u001b[0m\u001b[1;33m,\u001b[0m\u001b[1;33m\u001b[0m\u001b[1;33m\u001b[0m\u001b[0m\n\u001b[0;32m    310\u001b[0m                 )\n\u001b[1;32m--> 311\u001b[1;33m             \u001b[1;32mreturn\u001b[0m \u001b[0mfunc\u001b[0m\u001b[1;33m(\u001b[0m\u001b[1;33m*\u001b[0m\u001b[0margs\u001b[0m\u001b[1;33m,\u001b[0m \u001b[1;33m**\u001b[0m\u001b[0mkwargs\u001b[0m\u001b[1;33m)\u001b[0m\u001b[1;33m\u001b[0m\u001b[1;33m\u001b[0m\u001b[0m\n\u001b[0m\u001b[0;32m    312\u001b[0m \u001b[1;33m\u001b[0m\u001b[0m\n\u001b[0;32m    313\u001b[0m         \u001b[1;32mreturn\u001b[0m \u001b[0mwrapper\u001b[0m\u001b[1;33m\u001b[0m\u001b[1;33m\u001b[0m\u001b[0m\n",
      "\u001b[1;32m~\\anaconda3\\lib\\site-packages\\pandas\\io\\html.py\u001b[0m in \u001b[0;36mread_html\u001b[1;34m(io, match, flavor, header, index_col, skiprows, attrs, parse_dates, thousands, encoding, decimal, converters, na_values, keep_default_na, displayed_only)\u001b[0m\n\u001b[0;32m   1111\u001b[0m     \u001b[0mio\u001b[0m \u001b[1;33m=\u001b[0m \u001b[0mstringify_path\u001b[0m\u001b[1;33m(\u001b[0m\u001b[0mio\u001b[0m\u001b[1;33m)\u001b[0m\u001b[1;33m\u001b[0m\u001b[1;33m\u001b[0m\u001b[0m\n\u001b[0;32m   1112\u001b[0m \u001b[1;33m\u001b[0m\u001b[0m\n\u001b[1;32m-> 1113\u001b[1;33m     return _parse(\n\u001b[0m\u001b[0;32m   1114\u001b[0m         \u001b[0mflavor\u001b[0m\u001b[1;33m=\u001b[0m\u001b[0mflavor\u001b[0m\u001b[1;33m,\u001b[0m\u001b[1;33m\u001b[0m\u001b[1;33m\u001b[0m\u001b[0m\n\u001b[0;32m   1115\u001b[0m         \u001b[0mio\u001b[0m\u001b[1;33m=\u001b[0m\u001b[0mio\u001b[0m\u001b[1;33m,\u001b[0m\u001b[1;33m\u001b[0m\u001b[1;33m\u001b[0m\u001b[0m\n",
      "\u001b[1;32m~\\anaconda3\\lib\\site-packages\\pandas\\io\\html.py\u001b[0m in \u001b[0;36m_parse\u001b[1;34m(flavor, io, match, attrs, encoding, displayed_only, **kwargs)\u001b[0m\n\u001b[0;32m    913\u001b[0m     \u001b[0mretained\u001b[0m \u001b[1;33m=\u001b[0m \u001b[1;32mNone\u001b[0m\u001b[1;33m\u001b[0m\u001b[1;33m\u001b[0m\u001b[0m\n\u001b[0;32m    914\u001b[0m     \u001b[1;32mfor\u001b[0m \u001b[0mflav\u001b[0m \u001b[1;32min\u001b[0m \u001b[0mflavor\u001b[0m\u001b[1;33m:\u001b[0m\u001b[1;33m\u001b[0m\u001b[1;33m\u001b[0m\u001b[0m\n\u001b[1;32m--> 915\u001b[1;33m         \u001b[0mparser\u001b[0m \u001b[1;33m=\u001b[0m \u001b[0m_parser_dispatch\u001b[0m\u001b[1;33m(\u001b[0m\u001b[0mflav\u001b[0m\u001b[1;33m)\u001b[0m\u001b[1;33m\u001b[0m\u001b[1;33m\u001b[0m\u001b[0m\n\u001b[0m\u001b[0;32m    916\u001b[0m         \u001b[0mp\u001b[0m \u001b[1;33m=\u001b[0m \u001b[0mparser\u001b[0m\u001b[1;33m(\u001b[0m\u001b[0mio\u001b[0m\u001b[1;33m,\u001b[0m \u001b[0mcompiled_match\u001b[0m\u001b[1;33m,\u001b[0m \u001b[0mattrs\u001b[0m\u001b[1;33m,\u001b[0m \u001b[0mencoding\u001b[0m\u001b[1;33m,\u001b[0m \u001b[0mdisplayed_only\u001b[0m\u001b[1;33m)\u001b[0m\u001b[1;33m\u001b[0m\u001b[1;33m\u001b[0m\u001b[0m\n\u001b[0;32m    917\u001b[0m \u001b[1;33m\u001b[0m\u001b[0m\n",
      "\u001b[1;32m~\\anaconda3\\lib\\site-packages\\pandas\\io\\html.py\u001b[0m in \u001b[0;36m_parser_dispatch\u001b[1;34m(flavor)\u001b[0m\n\u001b[0;32m    862\u001b[0m     \u001b[1;32mif\u001b[0m \u001b[0mflavor\u001b[0m \u001b[1;32min\u001b[0m \u001b[1;33m(\u001b[0m\u001b[1;34m\"bs4\"\u001b[0m\u001b[1;33m,\u001b[0m \u001b[1;34m\"html5lib\"\u001b[0m\u001b[1;33m)\u001b[0m\u001b[1;33m:\u001b[0m\u001b[1;33m\u001b[0m\u001b[1;33m\u001b[0m\u001b[0m\n\u001b[0;32m    863\u001b[0m         \u001b[1;32mif\u001b[0m \u001b[1;32mnot\u001b[0m \u001b[0m_HAS_HTML5LIB\u001b[0m\u001b[1;33m:\u001b[0m\u001b[1;33m\u001b[0m\u001b[1;33m\u001b[0m\u001b[0m\n\u001b[1;32m--> 864\u001b[1;33m             \u001b[1;32mraise\u001b[0m \u001b[0mImportError\u001b[0m\u001b[1;33m(\u001b[0m\u001b[1;34m\"html5lib not found, please install it\"\u001b[0m\u001b[1;33m)\u001b[0m\u001b[1;33m\u001b[0m\u001b[1;33m\u001b[0m\u001b[0m\n\u001b[0m\u001b[0;32m    865\u001b[0m         \u001b[1;32mif\u001b[0m \u001b[1;32mnot\u001b[0m \u001b[0m_HAS_BS4\u001b[0m\u001b[1;33m:\u001b[0m\u001b[1;33m\u001b[0m\u001b[1;33m\u001b[0m\u001b[0m\n\u001b[0;32m    866\u001b[0m             \u001b[1;32mraise\u001b[0m \u001b[0mImportError\u001b[0m\u001b[1;33m(\u001b[0m\u001b[1;34m\"BeautifulSoup4 (bs4) not found, please install it\"\u001b[0m\u001b[1;33m)\u001b[0m\u001b[1;33m\u001b[0m\u001b[1;33m\u001b[0m\u001b[0m\n",
      "\u001b[1;31mImportError\u001b[0m: html5lib not found, please install it"
     ]
    }
   ],
   "source": [
    "from bs4 import BeautifulSoup\n",
    "import pandas as pd\n",
    "import lxml\n",
    "import html5lib\n",
    "url='atrithakar.github.io'\n",
    "dfs=pd.read_html(url) "
   ]
  },
  {
   "cell_type": "code",
   "execution_count": 76,
   "id": "9bc90cc1",
   "metadata": {},
   "outputs": [
    {
     "name": "stdout",
     "output_type": "stream",
     "text": [
      "Collecting html5lib\n",
      "  Downloading html5lib-1.1-py2.py3-none-any.whl (112 kB)\n",
      "     ------------------------------------ 112.2/112.2 kB 407.7 kB/s eta 0:00:00\n",
      "Requirement already satisfied: webencodings in c:\\users\\atrit\\anaconda3\\lib\\site-packages (from html5lib) (0.5.1)\n",
      "Requirement already satisfied: six>=1.9 in c:\\users\\atrit\\anaconda3\\lib\\site-packages (from html5lib) (1.16.0)\n",
      "Installing collected packages: html5lib\n",
      "Successfully installed html5lib-1.1\n",
      "Note: you may need to restart the kernel to use updated packages.\n"
     ]
    }
   ],
   "source": [
    "pip install html5lib"
   ]
  },
  {
   "cell_type": "code",
   "execution_count": 80,
   "id": "017a171d",
   "metadata": {},
   "outputs": [
    {
     "ename": "ImportError",
     "evalue": "html5lib not found, please install it",
     "output_type": "error",
     "traceback": [
      "\u001b[1;31m---------------------------------------------------------------------------\u001b[0m",
      "\u001b[1;31mImportError\u001b[0m                               Traceback (most recent call last)",
      "\u001b[1;32m~\\AppData\\Local\\Temp\\ipykernel_22004\\3454710527.py\u001b[0m in \u001b[0;36m<module>\u001b[1;34m\u001b[0m\n\u001b[0;32m      4\u001b[0m \u001b[1;32mimport\u001b[0m \u001b[0mhtml5lib\u001b[0m\u001b[1;33m\u001b[0m\u001b[1;33m\u001b[0m\u001b[0m\n\u001b[0;32m      5\u001b[0m \u001b[0murl\u001b[0m\u001b[1;33m=\u001b[0m\u001b[1;34m'atrithakar.github.io'\u001b[0m\u001b[1;33m\u001b[0m\u001b[1;33m\u001b[0m\u001b[0m\n\u001b[1;32m----> 6\u001b[1;33m \u001b[0mdfs\u001b[0m\u001b[1;33m=\u001b[0m\u001b[0mpd\u001b[0m\u001b[1;33m.\u001b[0m\u001b[0mread_html\u001b[0m\u001b[1;33m(\u001b[0m\u001b[0murl\u001b[0m\u001b[1;33m)\u001b[0m\u001b[1;33m\u001b[0m\u001b[1;33m\u001b[0m\u001b[0m\n\u001b[0m",
      "\u001b[1;32m~\\anaconda3\\lib\\site-packages\\pandas\\util\\_decorators.py\u001b[0m in \u001b[0;36mwrapper\u001b[1;34m(*args, **kwargs)\u001b[0m\n\u001b[0;32m    309\u001b[0m                     \u001b[0mstacklevel\u001b[0m\u001b[1;33m=\u001b[0m\u001b[0mstacklevel\u001b[0m\u001b[1;33m,\u001b[0m\u001b[1;33m\u001b[0m\u001b[1;33m\u001b[0m\u001b[0m\n\u001b[0;32m    310\u001b[0m                 )\n\u001b[1;32m--> 311\u001b[1;33m             \u001b[1;32mreturn\u001b[0m \u001b[0mfunc\u001b[0m\u001b[1;33m(\u001b[0m\u001b[1;33m*\u001b[0m\u001b[0margs\u001b[0m\u001b[1;33m,\u001b[0m \u001b[1;33m**\u001b[0m\u001b[0mkwargs\u001b[0m\u001b[1;33m)\u001b[0m\u001b[1;33m\u001b[0m\u001b[1;33m\u001b[0m\u001b[0m\n\u001b[0m\u001b[0;32m    312\u001b[0m \u001b[1;33m\u001b[0m\u001b[0m\n\u001b[0;32m    313\u001b[0m         \u001b[1;32mreturn\u001b[0m \u001b[0mwrapper\u001b[0m\u001b[1;33m\u001b[0m\u001b[1;33m\u001b[0m\u001b[0m\n",
      "\u001b[1;32m~\\anaconda3\\lib\\site-packages\\pandas\\io\\html.py\u001b[0m in \u001b[0;36mread_html\u001b[1;34m(io, match, flavor, header, index_col, skiprows, attrs, parse_dates, thousands, encoding, decimal, converters, na_values, keep_default_na, displayed_only)\u001b[0m\n\u001b[0;32m   1111\u001b[0m     \u001b[0mio\u001b[0m \u001b[1;33m=\u001b[0m \u001b[0mstringify_path\u001b[0m\u001b[1;33m(\u001b[0m\u001b[0mio\u001b[0m\u001b[1;33m)\u001b[0m\u001b[1;33m\u001b[0m\u001b[1;33m\u001b[0m\u001b[0m\n\u001b[0;32m   1112\u001b[0m \u001b[1;33m\u001b[0m\u001b[0m\n\u001b[1;32m-> 1113\u001b[1;33m     return _parse(\n\u001b[0m\u001b[0;32m   1114\u001b[0m         \u001b[0mflavor\u001b[0m\u001b[1;33m=\u001b[0m\u001b[0mflavor\u001b[0m\u001b[1;33m,\u001b[0m\u001b[1;33m\u001b[0m\u001b[1;33m\u001b[0m\u001b[0m\n\u001b[0;32m   1115\u001b[0m         \u001b[0mio\u001b[0m\u001b[1;33m=\u001b[0m\u001b[0mio\u001b[0m\u001b[1;33m,\u001b[0m\u001b[1;33m\u001b[0m\u001b[1;33m\u001b[0m\u001b[0m\n",
      "\u001b[1;32m~\\anaconda3\\lib\\site-packages\\pandas\\io\\html.py\u001b[0m in \u001b[0;36m_parse\u001b[1;34m(flavor, io, match, attrs, encoding, displayed_only, **kwargs)\u001b[0m\n\u001b[0;32m    913\u001b[0m     \u001b[0mretained\u001b[0m \u001b[1;33m=\u001b[0m \u001b[1;32mNone\u001b[0m\u001b[1;33m\u001b[0m\u001b[1;33m\u001b[0m\u001b[0m\n\u001b[0;32m    914\u001b[0m     \u001b[1;32mfor\u001b[0m \u001b[0mflav\u001b[0m \u001b[1;32min\u001b[0m \u001b[0mflavor\u001b[0m\u001b[1;33m:\u001b[0m\u001b[1;33m\u001b[0m\u001b[1;33m\u001b[0m\u001b[0m\n\u001b[1;32m--> 915\u001b[1;33m         \u001b[0mparser\u001b[0m \u001b[1;33m=\u001b[0m \u001b[0m_parser_dispatch\u001b[0m\u001b[1;33m(\u001b[0m\u001b[0mflav\u001b[0m\u001b[1;33m)\u001b[0m\u001b[1;33m\u001b[0m\u001b[1;33m\u001b[0m\u001b[0m\n\u001b[0m\u001b[0;32m    916\u001b[0m         \u001b[0mp\u001b[0m \u001b[1;33m=\u001b[0m \u001b[0mparser\u001b[0m\u001b[1;33m(\u001b[0m\u001b[0mio\u001b[0m\u001b[1;33m,\u001b[0m \u001b[0mcompiled_match\u001b[0m\u001b[1;33m,\u001b[0m \u001b[0mattrs\u001b[0m\u001b[1;33m,\u001b[0m \u001b[0mencoding\u001b[0m\u001b[1;33m,\u001b[0m \u001b[0mdisplayed_only\u001b[0m\u001b[1;33m)\u001b[0m\u001b[1;33m\u001b[0m\u001b[1;33m\u001b[0m\u001b[0m\n\u001b[0;32m    917\u001b[0m \u001b[1;33m\u001b[0m\u001b[0m\n",
      "\u001b[1;32m~\\anaconda3\\lib\\site-packages\\pandas\\io\\html.py\u001b[0m in \u001b[0;36m_parser_dispatch\u001b[1;34m(flavor)\u001b[0m\n\u001b[0;32m    862\u001b[0m     \u001b[1;32mif\u001b[0m \u001b[0mflavor\u001b[0m \u001b[1;32min\u001b[0m \u001b[1;33m(\u001b[0m\u001b[1;34m\"bs4\"\u001b[0m\u001b[1;33m,\u001b[0m \u001b[1;34m\"html5lib\"\u001b[0m\u001b[1;33m)\u001b[0m\u001b[1;33m:\u001b[0m\u001b[1;33m\u001b[0m\u001b[1;33m\u001b[0m\u001b[0m\n\u001b[0;32m    863\u001b[0m         \u001b[1;32mif\u001b[0m \u001b[1;32mnot\u001b[0m \u001b[0m_HAS_HTML5LIB\u001b[0m\u001b[1;33m:\u001b[0m\u001b[1;33m\u001b[0m\u001b[1;33m\u001b[0m\u001b[0m\n\u001b[1;32m--> 864\u001b[1;33m             \u001b[1;32mraise\u001b[0m \u001b[0mImportError\u001b[0m\u001b[1;33m(\u001b[0m\u001b[1;34m\"html5lib not found, please install it\"\u001b[0m\u001b[1;33m)\u001b[0m\u001b[1;33m\u001b[0m\u001b[1;33m\u001b[0m\u001b[0m\n\u001b[0m\u001b[0;32m    865\u001b[0m         \u001b[1;32mif\u001b[0m \u001b[1;32mnot\u001b[0m \u001b[0m_HAS_BS4\u001b[0m\u001b[1;33m:\u001b[0m\u001b[1;33m\u001b[0m\u001b[1;33m\u001b[0m\u001b[0m\n\u001b[0;32m    866\u001b[0m             \u001b[1;32mraise\u001b[0m \u001b[0mImportError\u001b[0m\u001b[1;33m(\u001b[0m\u001b[1;34m\"BeautifulSoup4 (bs4) not found, please install it\"\u001b[0m\u001b[1;33m)\u001b[0m\u001b[1;33m\u001b[0m\u001b[1;33m\u001b[0m\u001b[0m\n",
      "\u001b[1;31mImportError\u001b[0m: html5lib not found, please install it"
     ]
    }
   ],
   "source": [
    "from bs4 import BeautifulSoup\n",
    "import pandas as pd\n",
    "import lxml\n",
    "import html5lib\n",
    "url='atrithakar.github.io'\n",
    "dfs=pd.read_html(url) "
   ]
  },
  {
   "cell_type": "code",
   "execution_count": null,
   "id": "6eb6c574",
   "metadata": {},
   "outputs": [],
   "source": []
  }
 ],
 "metadata": {
  "kernelspec": {
   "display_name": "Python 3 (ipykernel)",
   "language": "python",
   "name": "python3"
  },
  "language_info": {
   "codemirror_mode": {
    "name": "ipython",
    "version": 3
   },
   "file_extension": ".py",
   "mimetype": "text/x-python",
   "name": "python",
   "nbconvert_exporter": "python",
   "pygments_lexer": "ipython3",
   "version": "3.9.13"
  }
 },
 "nbformat": 4,
 "nbformat_minor": 5
}
